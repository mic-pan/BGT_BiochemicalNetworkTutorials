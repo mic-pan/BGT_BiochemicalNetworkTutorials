{
 "cells": [
  {
   "cell_type": "markdown",
   "metadata": {},
   "source": [
    "# Biochemical Network Tutorial\n",
    "\n",
    "This tutorial deals with the creation and simulation of biochemical networks using bond graphs. In this tutorial, we will use the BondGraphTools package to:\n",
    "* create bond graph components of biochemistry\n",
    "* link components together using bonds\n",
    "* draw bond graphs of biochemical networks\n",
    "* set parameters for bond graph components\n",
    "* simulate bond graph models of biochemical networks\n",
    "* change the initial conditions and control variables for simulations\n",
    "* extract efforts and flows from a bond graph to calculate reaction fluxes and affinities\n",
    "\n",
    "We begin by importing the BondGraphTools package, as well as other packages required for this tutorial."
   ]
  },
  {
   "cell_type": "code",
   "execution_count": 1,
   "metadata": {},
   "outputs": [],
   "source": [
    "import BondGraphTools as bgt\n",
    "from BondGraphTools.actions import new, add, connect\n",
    "import numpy as np\n",
    "import matplotlib.pyplot as plt\n",
    "import sympy as sp\n",
    "from sympy import init_printing\n",
    "init_printing()"
   ]
  },
  {
   "cell_type": "markdown",
   "metadata": {},
   "source": [
    "## A simple example\n",
    "In this section we work with the simple biochemical reaction $A + B \\rightleftharpoons C$. The bond graph for this system is shown below, where the bonds have been numbered in blue for ease of reference as we add bonds to the model.\n",
    "\n",
    "![](ABC.svg)\n",
    "\n",
    "We begin by creating each of the components, and adding them to the model."
   ]
  },
  {
   "cell_type": "code",
   "execution_count": 2,
   "metadata": {},
   "outputs": [
    {
     "data": {
      "text/plain": [
       "{1: AB, C: A, C: B, C: C, R: R1}"
      ]
     },
     "execution_count": 2,
     "metadata": {},
     "output_type": "execute_result"
    }
   ],
   "source": [
    "# Create a new model\n",
    "model_ABC = new(name='ABC')\n",
    "\n",
    "# C:A\n",
    "C_A = new(component='Ce',name='A',library='BioChem')\n",
    "add(model_ABC,C_A)\n",
    "\n",
    "# C:B\n",
    "C_B = new(component='Ce',name='B',library='BioChem')\n",
    "add(model_ABC,C_B)\n",
    "\n",
    "# C:C\n",
    "C_C = new(component='Ce',name='C',library='BioChem')\n",
    "add(model_ABC,C_C)\n",
    "\n",
    "# Re:R1\n",
    "Re = new(component='Re',name='R1',library='BioChem')\n",
    "add(model_ABC,Re)\n",
    "\n",
    "# 1 junction\n",
    "flow = new(component='1',name='AB')\n",
    "add(model_ABC,flow)\n",
    "\n",
    "# List the components to check they have been added\n",
    "model_ABC.components"
   ]
  },
  {
   "cell_type": "markdown",
   "metadata": {},
   "source": [
    "Next we define the bonds that link the components together.  The **Re** component needs to have connections to specific ports (the forward and reverse sides) specified."
   ]
  },
  {
   "cell_type": "code",
   "execution_count": 3,
   "metadata": {},
   "outputs": [
    {
     "data": {
      "text/plain": [
       "[Bond(tail=Port(C: B, 0), head=Port(1: AB, 1)),\n",
       " Bond(tail=Port(C: A, 0), head=Port(1: AB, 0)),\n",
       " Bond(tail=Port(R: R1, 1), head=Port(C: C, 0)),\n",
       " Bond(tail=Port(1: AB, 2), head=Port(R: R1, 0))]"
      ]
     },
     "execution_count": 3,
     "metadata": {},
     "output_type": "execute_result"
    }
   ],
   "source": [
    "connect(C_A,flow) # Bond 1\n",
    "connect(C_B,flow) # Bond 2\n",
    "connect(flow,(Re,0)) # Bond 3\n",
    "connect((Re,1),C_C) # Bond 4\n",
    "\n",
    "# List the bonds to check they have been added\n",
    "model_ABC.bonds"
   ]
  },
  {
   "cell_type": "markdown",
   "metadata": {},
   "source": [
    "We now draw the bond graph to make sure that the structure is the same as the diagram above."
   ]
  },
  {
   "cell_type": "code",
   "execution_count": 4,
   "metadata": {},
   "outputs": [
    {
     "data": {
      "image/png": "[encoded data removed]",
      "text/plain": [
       "<matplotlib.figure.Figure at 0x5dee9b0>"
      ]
     },
     "metadata": {},
     "output_type": "display_data"
    }
   ],
   "source": [
    "bgt.draw(model_ABC)"
   ]
  },
  {
   "cell_type": "markdown",
   "metadata": {},
   "source": [
    "The differential equations for the model can be derived using the `constitutive_relations` method."
   ]
  },
  {
   "cell_type": "code",
   "execution_count": 5,
   "metadata": {
    "scrolled": true
   },
   "outputs": [
    {
     "data": {
      "image/png": "[encoded data removed]",
      "text/latex": [
       "$$\\left [ dx_{0} + u_{9} e^{\\frac{1}{u_{10} u_{11}} \\left(u_{1} u_{2} \\log{\\left (u_{0} x_{0} \\right )} + u_{4} u_{5} \\log{\\left (u_{3} x_{1} \\right )}\\right)} - u_{9} e^{\\frac{u_{7} u_{8}}{u_{10} u_{11}} \\log{\\left (u_{6} x_{2} \\right )}}, \\quad dx_{1} + u_{9} e^{\\frac{1}{u_{10} u_{11}} \\left(u_{1} u_{2} \\log{\\left (u_{0} x_{0} \\right )} + u_{4} u_{5} \\log{\\left (u_{3} x_{1} \\right )}\\right)} - u_{9} e^{\\frac{u_{7} u_{8}}{u_{10} u_{11}} \\log{\\left (u_{6} x_{2} \\right )}}, \\quad dx_{2} - u_{9} e^{\\frac{1}{u_{10} u_{11}} \\left(u_{1} u_{2} \\log{\\left (u_{0} x_{0} \\right )} + u_{4} u_{5} \\log{\\left (u_{3} x_{1} \\right )}\\right)} + u_{9} e^{\\frac{u_{7} u_{8}}{u_{10} u_{11}} \\log{\\left (u_{6} x_{2} \\right )}}\\right ]$$"
      ],
      "text/plain": [
       "⎡          u₁⋅u₂⋅log(u₀⋅x₀) + u₄⋅u₅⋅log(u₃⋅x₁)       u₇⋅u₈⋅log(u₆⋅x₂)         \n",
       "⎢          ───────────────────────────────────       ────────────────         \n",
       "⎢                        u₁₀⋅u₁₁                         u₁₀⋅u₁₁              \n",
       "⎣dx₀ + u₉⋅ℯ                                    - u₉⋅ℯ                , dx₁ + u\n",
       "\n",
       "   u₁⋅u₂⋅log(u₀⋅x₀) + u₄⋅u₅⋅log(u₃⋅x₁)       u₇⋅u₈⋅log(u₆⋅x₂)            u₁⋅u₂\n",
       "   ───────────────────────────────────       ────────────────            ─────\n",
       "                 u₁₀⋅u₁₁                         u₁₀⋅u₁₁                      \n",
       "₉⋅ℯ                                    - u₉⋅ℯ                , dx₂ - u₉⋅ℯ     \n",
       "\n",
       "⋅log(u₀⋅x₀) + u₄⋅u₅⋅log(u₃⋅x₁)       u₇⋅u₈⋅log(u₆⋅x₂)⎤\n",
       "──────────────────────────────       ────────────────⎥\n",
       "         u₁₀⋅u₁₁                         u₁₀⋅u₁₁     ⎥\n",
       "                               + u₉⋅ℯ                ⎦"
      ]
     },
     "execution_count": 5,
     "metadata": {},
     "output_type": "execute_result"
    }
   ],
   "source": [
    "model_ABC.constitutive_relations"
   ]
  },
  {
   "cell_type": "markdown",
   "metadata": {},
   "source": [
    "As seen above, the differential equations contain a number of unset constants - the control variables $u_n$. We will now set the parameters for each component, and derive the differential equation again."
   ]
  },
  {
   "cell_type": "code",
   "execution_count": 6,
   "metadata": {},
   "outputs": [
    {
     "data": {
      "image/png": "[encoded data removed]",
      "text/latex": [
       "$$\\left [ dx_{0} + x_{0} x_{1} - x_{2}, \\quad dx_{1} + x_{0} x_{1} - x_{2}, \\quad dx_{2} - x_{0} x_{1} + x_{2}\\right ]$$"
      ],
      "text/plain": [
       "[dx₀ + x₀⋅x₁ - x₂, dx₁ + x₀⋅x₁ - x₂, dx₂ - x₀⋅x₁ + x₂]"
      ]
     },
     "execution_count": 6,
     "metadata": {},
     "output_type": "execute_result"
    }
   ],
   "source": [
    "# C:A\n",
    "C_A.set_param('k',1)\n",
    "C_A.set_param('R',1)\n",
    "C_A.set_param('T',1)\n",
    "\n",
    "# C:B\n",
    "C_B.set_param('k',1)\n",
    "C_B.set_param('R',1)\n",
    "C_B.set_param('T',1)\n",
    "\n",
    "# C:C\n",
    "C_C.set_param('k',1)\n",
    "C_C.set_param('R',1)\n",
    "C_C.set_param('T',1)\n",
    "\n",
    "# Re:R1\n",
    "Re.set_param('r',1)\n",
    "Re.set_param('R',1)\n",
    "Re.set_param('T',1)\n",
    "\n",
    "# Derive the differential equations\n",
    "model_ABC.constitutive_relations"
   ]
  },
  {
   "cell_type": "markdown",
   "metadata": {},
   "source": [
    "The equations look much more like what we expect from a reaction obeying mass balance. The definition of each state can be found by using the `state_vars` method. The states $x_0$, $x_1$ and $x_2$ correspond to A, B and C respectively."
   ]
  },
  {
   "cell_type": "code",
   "execution_count": 7,
   "metadata": {},
   "outputs": [
    {
     "data": {
      "text/plain": [
       "{'x_0': (C: A, 'q_0'), 'x_1': (C: B, 'q_0'), 'x_2': (C: C, 'q_0')}"
      ]
     },
     "execution_count": 7,
     "metadata": {},
     "output_type": "execute_result"
    }
   ],
   "source": [
    "model_ABC.state_vars"
   ]
  },
  {
   "cell_type": "markdown",
   "metadata": {},
   "source": [
    "Therefore the differential equations can be interpreted as\n",
    "$$ \n",
    "\\begin{align*}\n",
    "\\frac{dx_A}{dt} &= -x_A x_B + x_C \\\\\n",
    "\\frac{dx_B}{dt} &= -x_A x_B + x_C \\\\\n",
    "\\frac{dx_C}{dt} &= x_A x_B - x_C \n",
    "\\end{align*}\n",
    "$$"
   ]
  },
  {
   "cell_type": "markdown",
   "metadata": {},
   "source": [
    "We will now attempt to simulate the model using the `simulate` method in BondGraphTools. We set $x_0 = 1$, $x_1 = 2$ and $x_2 = 3$ as the initial conditions, and simulate the system from $t=0$ to $t=10$. The results are plotted below."
   ]
  },
  {
   "cell_type": "code",
   "execution_count": 8,
   "metadata": {},
   "outputs": [
    {
     "data": {
      "text/plain": [
       "<matplotlib.legend.Legend at 0x1370f6f0>"
      ]
     },
     "execution_count": 8,
     "metadata": {},
     "output_type": "execute_result"
    },
    {
     "data": {
      "image/png": "[encoded data removed]",
      "text/plain": [
       "<matplotlib.figure.Figure at 0x1370cf90>"
      ]
     },
     "metadata": {},
     "output_type": "display_data"
    }
   ],
   "source": [
    "t,x = bgt.simulate(model_ABC, timespan=(0.,10.), x0=[1,2,3])\n",
    "plt.plot(t,x)\n",
    "plt.xlabel('Time')\n",
    "plt.ylabel('Amount')\n",
    "plt.legend(['A','B','C'])"
   ]
  },
  {
   "cell_type": "markdown",
   "metadata": {},
   "source": [
    "We can run a different simulation for the same system using the initial conditions $x_0 = 3$, $x_1 = 1$ and $x_2 = 2$."
   ]
  },
  {
   "cell_type": "code",
   "execution_count": 9,
   "metadata": {},
   "outputs": [
    {
     "data": {
      "text/plain": [
       "<matplotlib.legend.Legend at 0x33a06a90>"
      ]
     },
     "execution_count": 9,
     "metadata": {},
     "output_type": "execute_result"
    },
    {
     "data": {
      "image/png": "[encoded data removed]",
      "text/plain": [
       "<matplotlib.figure.Figure at 0x339e21f0>"
      ]
     },
     "metadata": {},
     "output_type": "display_data"
    }
   ],
   "source": [
    "t,x = bgt.simulate(model_ABC, timespan=(0.,10.), x0=[3,1,2])\n",
    "plt.plot(t,x)\n",
    "plt.xlabel('Time')\n",
    "plt.ylabel('Amount')\n",
    "plt.legend(['A','B','C'])"
   ]
  },
  {
   "cell_type": "markdown",
   "metadata": {},
   "source": [
    "## The reversible Michaelis-Menten model\n",
    "Here we will create a bond graph of the two-state enzyme model used for the Michaelis-Menten equations. The chemical reactions in this system are \n",
    "$$\n",
    "E + S \\rightleftharpoons C \\\\ \n",
    "C \\rightleftharpoons E + P\n",
    "$$\n",
    "As in the typical formulation, we assume that S and P are chemostats, i.e. their amounts are fixed at constant values. The corresponding bond graph for this system is shown below. The bonds have been labelled in blue.\n",
    "\n",
    "![](enzyme_cycle.svg)\n",
    "\n",
    "We begin by creating each of the components, and placing them in a list.\n",
    "\n",
    "While we chose to initialise components without their parameters in the previous example, we use this example to demonstrate how to initialise components with their parameters. All the bond graph parameters have been set to 1, and we assume that S is fixed at an amount of 2, and P is fixed at an amount of 1."
   ]
  },
  {
   "cell_type": "code",
   "execution_count": 10,
   "metadata": {},
   "outputs": [],
   "source": [
    "model_MM = new(name='Michaelis-Menten')\n",
    "\n",
    "R = 8.3144598\n",
    "T = 310\n",
    "K_S = 1\n",
    "K_P = 1\n",
    "x_S = 2\n",
    "x_P = 1\n",
    "\n",
    "# Chemical species\n",
    "C_E = new(component='Ce',name='E',library='BioChem',value={'k':1,'R':R,'T':T})\n",
    "C_C = new(component='Ce',name='C',library='BioChem',value={'k':1,'R':R,'T':T})\n",
    "# Chemostats\n",
    "Se_S = new(component='Se',name='S',value={'e':R*T*np.log(K_S*x_S)})\n",
    "Se_P = new(component='Se',name='P',value={'e':R*T*np.log(K_P*x_P)})\n",
    "# Reactions\n",
    "R1 = new(component='Re',name='R1',library='BioChem',value={'r':1,'R':R,'T':T})\n",
    "R2 = new(component='Re',name='R2',library='BioChem',value={'r':1,'R':R,'T':T})\n",
    "# 0 junctions\n",
    "ej_E = new(component='0',name='E')\n",
    "ej_C = new(component='0',name='C')\n",
    "# Y junctions\n",
    "fj_1 = new(component='1',name='R1')\n",
    "fj_2 = new(component='1',name='R2')\n",
    "\n",
    "# Place components in a list\n",
    "components = [C_E,C_C,Se_S,Se_P,R1,R2,ej_E,ej_C,fj_1,fj_2]"
   ]
  },
  {
   "cell_type": "markdown",
   "metadata": {},
   "source": [
    "Each of the components have been added to a list, so they can be added to the model together."
   ]
  },
  {
   "cell_type": "code",
   "execution_count": 11,
   "metadata": {},
   "outputs": [
    {
     "data": {
      "text/plain": [
       "{0: C, 0: E, 1: R1, 1: R2, C: C, C: E, R: R1, R: R2, SS: P, SS: S}"
      ]
     },
     "execution_count": 11,
     "metadata": {},
     "output_type": "execute_result"
    }
   ],
   "source": [
    "add(model_MM, *components)\n",
    "\n",
    "# Check that the components are in the model\n",
    "model_MM.components"
   ]
  },
  {
   "cell_type": "markdown",
   "metadata": {},
   "source": [
    "We next connect the components together, as in the diagram above."
   ]
  },
  {
   "cell_type": "code",
   "execution_count": 12,
   "metadata": {},
   "outputs": [
    {
     "data": {
      "text/plain": [
       "[Bond(tail=Port(0: C, 1), head=Port(C: C, 0)),\n",
       " Bond(tail=Port(0: C, 2), head=Port(R: R2, 0)),\n",
       " Bond(tail=Port(R: R1, 1), head=Port(0: C, 0)),\n",
       " Bond(tail=Port(SS: S, 0), head=Port(1: R1, 0)),\n",
       " Bond(tail=Port(1: R1, 1), head=Port(R: R1, 0)),\n",
       " Bond(tail=Port(R: R2, 1), head=Port(1: R2, 0)),\n",
       " Bond(tail=Port(1: R2, 1), head=Port(SS: P, 0)),\n",
       " Bond(tail=Port(1: R2, 2), head=Port(0: E, 0)),\n",
       " Bond(tail=Port(0: E, 1), head=Port(C: E, 0)),\n",
       " Bond(tail=Port(0: E, 2), head=Port(1: R1, 2))]"
      ]
     },
     "execution_count": 12,
     "metadata": {},
     "output_type": "execute_result"
    }
   ],
   "source": [
    "connect(Se_S,fj_1) # Bond 1\n",
    "connect(fj_1,(R1,0)) # Bond 2\n",
    "connect((R1,1),ej_C) # Bond 3\n",
    "connect(ej_C,C_C) # Bond 4\n",
    "connect(ej_C,(R2,0)) # Bond 5\n",
    "connect((R2,1),fj_2) # Bond 6\n",
    "connect(fj_2,Se_P) # Bond 7\n",
    "connect(fj_2,ej_E) # Bond 8\n",
    "connect(ej_E,C_E) # Bond 9\n",
    "connect(ej_E,fj_1) # Bond 10\n",
    "\n",
    "# Check that the bonds have been added\n",
    "model_MM.bonds"
   ]
  },
  {
   "cell_type": "markdown",
   "metadata": {},
   "source": [
    "The bond graph drawn by the software verifies these connections."
   ]
  },
  {
   "cell_type": "code",
   "execution_count": 13,
   "metadata": {},
   "outputs": [
    {
     "data": {
      "image/png": "[encoded data removed]",
      "text/plain": [
       "<matplotlib.figure.Figure at 0x1350f9f0>"
      ]
     },
     "metadata": {},
     "output_type": "display_data"
    }
   ],
   "source": [
    "bgt.draw(model_MM)"
   ]
  },
  {
   "cell_type": "markdown",
   "metadata": {},
   "source": [
    "For this model, the constitutive equations reduce to a linear system"
   ]
  },
  {
   "cell_type": "code",
   "execution_count": 14,
   "metadata": {},
   "outputs": [
    {
     "data": {
      "image/png": "[encoded data removed]",
      "text/latex": [
       "$$\\left [ dx_{0} + 3 x_{0} - 2 x_{1}, \\quad dx_{1} - 3 x_{0} + 2 x_{1}\\right ]$$"
      ],
      "text/plain": [
       "[dx₀ + 3⋅x₀ - 2⋅x₁, dx₁ - 3⋅x₀ + 2⋅x₁]"
      ]
     },
     "execution_count": 14,
     "metadata": {},
     "output_type": "execute_result"
    }
   ],
   "source": [
    "model_MM.constitutive_relations"
   ]
  },
  {
   "cell_type": "markdown",
   "metadata": {},
   "source": [
    "with the state variables defined as"
   ]
  },
  {
   "cell_type": "code",
   "execution_count": 15,
   "metadata": {},
   "outputs": [
    {
     "data": {
      "text/plain": [
       "{'x_0': (C: E, 'q_0'), 'x_1': (C: C, 'q_0')}"
      ]
     },
     "execution_count": 15,
     "metadata": {},
     "output_type": "execute_result"
    }
   ],
   "source": [
    "model_MM.state_vars"
   ]
  },
  {
   "cell_type": "markdown",
   "metadata": {},
   "source": [
    "We may now simulate this model using the initial conditions $x_E = 1$ and $x_C = 2$."
   ]
  },
  {
   "cell_type": "code",
   "execution_count": 16,
   "metadata": {},
   "outputs": [
    {
     "data": {
      "text/plain": [
       "<matplotlib.legend.Legend at 0x133d6730>"
      ]
     },
     "execution_count": 16,
     "metadata": {},
     "output_type": "execute_result"
    },
    {
     "data": {
      "image/png": "[encoded data removed]",
      "text/plain": [
       "<matplotlib.figure.Figure at 0x133bbf30>"
      ]
     },
     "metadata": {},
     "output_type": "display_data"
    }
   ],
   "source": [
    "t,x = bgt.simulate(model_MM, timespan=(0.,3.), x0=[1,2])\n",
    "plt.plot(t,x)\n",
    "plt.xlabel('Time')\n",
    "plt.ylabel('Amount')\n",
    "plt.legend(['E','C'])"
   ]
  },
  {
   "cell_type": "markdown",
   "metadata": {},
   "source": [
    "We may also run a simulation where the amount of substrate is gradually increased, i.e. $x_S = t$. We turn the **Se:S** component back into a controlled variable, and set the effort to be $e = RT\\ln(K_S t)$. As the amount of substrate increases more of the enzyme is driven to the complex state."
   ]
  },
  {
   "cell_type": "code",
   "execution_count": 17,
   "metadata": {},
   "outputs": [
    {
     "data": {
      "text/plain": [
       "<matplotlib.legend.Legend at 0x34efcc70>"
      ]
     },
     "execution_count": 17,
     "metadata": {},
     "output_type": "execute_result"
    },
    {
     "data": {
      "image/png": "[encoded data removed]",
      "text/plain": [
       "<matplotlib.figure.Figure at 0x13459430>"
      ]
     },
     "metadata": {},
     "output_type": "display_data"
    }
   ],
   "source": [
    "Se_S.set_param('e',None)\n",
    "t,x = bgt.simulate(model_MM, timespan=(0.,10.), x0=[1,2], control_vars={'u_0':f'{R}*{T}*log({K_S}*t)'})\n",
    "plt.plot(t,x)\n",
    "plt.xlabel('Time')\n",
    "plt.ylabel('Amount')\n",
    "plt.legend(['E','C'])"
   ]
  },
  {
   "cell_type": "markdown",
   "metadata": {},
   "source": [
    "## Generating bond graph models using chemical reactions\n",
    "Manually creating components and connecting them can be cumbersome. An alternative method of generating bond graph models of biochemical networks is to use the Reaction Builder module in BondGraphTools. We first import this module."
   ]
  },
  {
   "cell_type": "code",
   "execution_count": 18,
   "metadata": {},
   "outputs": [],
   "source": [
    "from BondGraphTools.reaction_builder import Reaction_Network"
   ]
  },
  {
   "cell_type": "markdown",
   "metadata": {},
   "source": [
    "We define the reactions as follows. Reaction Builder interprets a string for each reaction. Reactions can also be assigned names."
   ]
  },
  {
   "cell_type": "code",
   "execution_count": 19,
   "metadata": {},
   "outputs": [],
   "source": [
    "rn_MM = Reaction_Network(name='Michaelis-Menten enzyme',temperature=310)\n",
    "rn_MM.add_reaction('E + S = C', name='R1')\n",
    "rn_MM.add_reaction('C = E + P', name='R2')"
   ]
  },
  {
   "cell_type": "markdown",
   "metadata": {},
   "source": [
    "We will also add chemostats to indicate that the substrate and product are held at constant concentrations."
   ]
  },
  {
   "cell_type": "code",
   "execution_count": 20,
   "metadata": {},
   "outputs": [],
   "source": [
    "rn_MM.add_chemostat('S')\n",
    "rn_MM.add_chemostat('P')"
   ]
  },
  {
   "cell_type": "markdown",
   "metadata": {},
   "source": [
    "The `rn_MM` variable contains the necessary information about the network, including the species:"
   ]
  },
  {
   "cell_type": "code",
   "execution_count": 21,
   "metadata": {},
   "outputs": [
    {
     "data": {
      "text/plain": [
       "['E', 'S', 'C', 'P']"
      ]
     },
     "execution_count": 21,
     "metadata": {},
     "output_type": "execute_result"
    }
   ],
   "source": [
    "rn_MM.species"
   ]
  },
  {
   "cell_type": "markdown",
   "metadata": {},
   "source": [
    "the reactions:"
   ]
  },
  {
   "cell_type": "code",
   "execution_count": 22,
   "metadata": {},
   "outputs": [
    {
     "data": {
      "text/plain": [
       "{'R1': ({'E': 1, 'S': 1}, {'C': 1}, None, None),\n",
       " 'R2': ({'C': 1}, {'E': 1, 'P': 1}, None, None)}"
      ]
     },
     "execution_count": 22,
     "metadata": {},
     "output_type": "execute_result"
    }
   ],
   "source": [
    "rn_MM._reactions"
   ]
  },
  {
   "cell_type": "markdown",
   "metadata": {},
   "source": [
    "and stoichiometry:"
   ]
  },
  {
   "cell_type": "code",
   "execution_count": 23,
   "metadata": {},
   "outputs": [
    {
     "data": {
      "image/png": "[encoded data removed]",
      "text/latex": [
       "$$\\left[\\begin{matrix}-1 & 1\\\\-1 & 0\\\\1 & -1\\\\0 & 1\\end{matrix}\\right]$$"
      ],
      "text/plain": [
       "⎡-1  1 ⎤\n",
       "⎢      ⎥\n",
       "⎢-1  0 ⎥\n",
       "⎢      ⎥\n",
       "⎢1   -1⎥\n",
       "⎢      ⎥\n",
       "⎣0   1 ⎦"
      ]
     },
     "execution_count": 23,
     "metadata": {},
     "output_type": "execute_result"
    }
   ],
   "source": [
    "rn_MM.stoichiometry"
   ]
  },
  {
   "cell_type": "markdown",
   "metadata": {},
   "source": [
    "We will now use this reaction network to generate a bond graph."
   ]
  },
  {
   "cell_type": "code",
   "execution_count": 24,
   "metadata": {},
   "outputs": [],
   "source": [
    "model_MM_rn = rn_MM.as_network_model()"
   ]
  },
  {
   "cell_type": "markdown",
   "metadata": {},
   "source": [
    "The structure of the reaction network is the same as above."
   ]
  },
  {
   "cell_type": "code",
   "execution_count": 25,
   "metadata": {},
   "outputs": [
    {
     "data": {
      "image/png": "[encoded data removed]",
      "text/plain": [
       "<matplotlib.figure.Figure at 0x34ee7310>"
      ]
     },
     "metadata": {},
     "output_type": "display_data"
    }
   ],
   "source": [
    "bgt.draw(model_MM_rn)"
   ]
  },
  {
   "cell_type": "markdown",
   "metadata": {},
   "source": [
    "The constitutive equations also have the same linear form. The exponent below arises from the non-unity value of the $RT$ constant."
   ]
  },
  {
   "cell_type": "code",
   "execution_count": 26,
   "metadata": {},
   "outputs": [
    {
     "data": {
      "image/png": "[encoded data removed]",
      "text/latex": [
       "$$\\left [ dx_{0} + u_{0} u_{4} x_{0} e^{\\frac{387975470350209 u_{2}}{1000000000000000000}} + u_{0} u_{5} x_{0} e^{\\frac{387975470350209 u_{3}}{1000000000000000000}} - u_{1} u_{4} x_{1} - u_{1} u_{5} x_{1}, \\quad dx_{1} - u_{0} u_{4} x_{0} e^{\\frac{387975470350209 u_{2}}{1000000000000000000}} - u_{0} u_{5} x_{0} e^{\\frac{387975470350209 u_{3}}{1000000000000000000}} + u_{1} u_{4} x_{1} + u_{1} u_{5} x_{1}\\right ]$$"
      ],
      "text/plain": [
       "⎡                 387975470350209⋅u₂              387975470350209⋅u₃          \n",
       "⎢                ───────────────────             ───────────────────          \n",
       "⎢                1000000000000000000             1000000000000000000          \n",
       "⎣dx₀ + u₀⋅u₄⋅x₀⋅ℯ                    + u₀⋅u₅⋅x₀⋅ℯ                    - u₁⋅u₄⋅x\n",
       "\n",
       "                               387975470350209⋅u₂              387975470350209\n",
       "                              ───────────────────             ────────────────\n",
       "                              1000000000000000000             1000000000000000\n",
       "₁ - u₁⋅u₅⋅x₁, dx₁ - u₀⋅u₄⋅x₀⋅ℯ                    - u₀⋅u₅⋅x₀⋅ℯ                \n",
       "\n",
       "⋅u₃                      ⎤\n",
       "───                      ⎥\n",
       "000                      ⎥\n",
       "    + u₁⋅u₄⋅x₁ + u₁⋅u₅⋅x₁⎦"
      ]
     },
     "execution_count": 26,
     "metadata": {},
     "output_type": "execute_result"
    }
   ],
   "source": [
    "model_MM_rn.constitutive_relations"
   ]
  },
  {
   "cell_type": "markdown",
   "metadata": {},
   "source": [
    "The state and control variables are defined below:"
   ]
  },
  {
   "cell_type": "code",
   "execution_count": 27,
   "metadata": {},
   "outputs": [
    {
     "data": {
      "text/plain": [
       "{'x_0': (C: E, 'q_0'), 'x_1': (C: C, 'q_0')}"
      ]
     },
     "execution_count": 27,
     "metadata": {},
     "output_type": "execute_result"
    }
   ],
   "source": [
    "model_MM_rn.state_vars"
   ]
  },
  {
   "cell_type": "code",
   "execution_count": 28,
   "metadata": {},
   "outputs": [
    {
     "data": {
      "text/plain": [
       "{'u_0': (C: E, 'k'),\n",
       " 'u_1': (C: C, 'k'),\n",
       " 'u_2': (SS: S, 'e'),\n",
       " 'u_3': (SS: P, 'e'),\n",
       " 'u_4': (R: R1, 'r'),\n",
       " 'u_5': (R: R2, 'r')}"
      ]
     },
     "execution_count": 28,
     "metadata": {},
     "output_type": "execute_result"
    }
   ],
   "source": [
    "model_MM_rn.control_vars"
   ]
  },
  {
   "cell_type": "markdown",
   "metadata": {},
   "source": [
    "As seen above, the parameters for each species and reaction are control variables that can be set. As before, we set the values to 1."
   ]
  },
  {
   "cell_type": "code",
   "execution_count": 29,
   "metadata": {},
   "outputs": [],
   "source": [
    "# Need to define a function to search for components as some of them have the same URI\n",
    "def comp_search(model, metaclass, name):\n",
    "    components = list(c for c in model.components if c.metaclass == metaclass and c.name == name)\n",
    "    if len(components) == 1:\n",
    "        return components[0]\n",
    "    else:\n",
    "        return components\n",
    "\n",
    "comp_search(model_MM_rn,metaclass='C',name='E').set_param('k',1)\n",
    "comp_search(model_MM_rn,metaclass='C',name='C').set_param('k',1)\n",
    "comp_search(model_MM_rn,metaclass='R',name='R1').set_param('r',1)\n",
    "comp_search(model_MM_rn,metaclass='R',name='R2').set_param('r',1)"
   ]
  },
  {
   "cell_type": "markdown",
   "metadata": {},
   "source": [
    "We also set the values of the chemostats using the chemical potential equation"
   ]
  },
  {
   "cell_type": "code",
   "execution_count": 30,
   "metadata": {},
   "outputs": [],
   "source": [
    "R = 8.3144598\n",
    "T = 310\n",
    "K_S = 1\n",
    "K_P = 1\n",
    "x_S = 2\n",
    "x_P = 1\n",
    "comp_search(model_MM_rn,metaclass='SS',name='S').set_param('e',R*T*np.log(K_S*x_S))\n",
    "comp_search(model_MM_rn,metaclass='SS',name='P').set_param('e',R*T*np.log(K_P*x_P))"
   ]
  },
  {
   "cell_type": "markdown",
   "metadata": {},
   "source": [
    "If we now show the equations of the system, we retrieve the familiar equations from the previous section."
   ]
  },
  {
   "cell_type": "code",
   "execution_count": 31,
   "metadata": {},
   "outputs": [
    {
     "data": {
      "image/png": "[encoded data removed]",
      "text/latex": [
       "$$\\left [ dx_{0} + 3 x_{0} - 2 x_{1}, \\quad dx_{1} - 3 x_{0} + 2 x_{1}\\right ]$$"
      ],
      "text/plain": [
       "[dx₀ + 3⋅x₀ - 2⋅x₁, dx₁ - 3⋅x₀ + 2⋅x₁]"
      ]
     },
     "execution_count": 31,
     "metadata": {},
     "output_type": "execute_result"
    }
   ],
   "source": [
    "model_MM_rn.constitutive_relations"
   ]
  },
  {
   "cell_type": "markdown",
   "metadata": {},
   "source": [
    "These equations can be simulated in the same way as in the previous section."
   ]
  },
  {
   "cell_type": "code",
   "execution_count": 32,
   "metadata": {},
   "outputs": [
    {
     "data": {
      "text/plain": [
       "<matplotlib.legend.Legend at 0x34efcf50>"
      ]
     },
     "execution_count": 32,
     "metadata": {},
     "output_type": "execute_result"
    },
    {
     "data": {
      "image/png": "[encoded data removed]",
      "text/plain": [
       "<matplotlib.figure.Figure at 0x352cbc50>"
      ]
     },
     "metadata": {},
     "output_type": "display_data"
    }
   ],
   "source": [
    "t,x = bgt.simulate(model_MM_rn, timespan=(0.,3.), x0=[1,2])\n",
    "plt.plot(t,x)\n",
    "plt.xlabel('Time')\n",
    "plt.ylabel('Amount')\n",
    "plt.legend(['E','C'])"
   ]
  },
  {
   "cell_type": "markdown",
   "metadata": {},
   "source": [
    "## Calculation of energetic quantities"
   ]
  },
  {
   "cell_type": "markdown",
   "metadata": {},
   "source": [
    "In some cases, we may be interested in the values associated with the bonds of each model rather than the states of the model. This may arise when we are looking at reaction rates, or the affinities of each reaction. These quantities can be extracted using the full equations of the model.\n",
    "\n",
    "Below we define a function that outputs the full equations of the model"
   ]
  },
  {
   "cell_type": "code",
   "execution_count": 33,
   "metadata": {},
   "outputs": [
    {
     "data": {
      "text/plain": [
       "{'dx_0': -3.0*x_0**1.0 + 2*x_1**1.0,\n",
       " 'dx_1': 3.0*x_0**1.0 - 2*x_1**1.0,\n",
       " 'e_0': 2577.482538*log(x_0),\n",
       " 'e_1': 2577.482538*log(x_1),\n",
       " 'e_10': 2577.482538*log(x_0) + 1786.57475415719,\n",
       " 'e_11': 2577.482538*log(x_1),\n",
       " 'e_12': 2577.482538*log(x_0) + 1786.57475415719,\n",
       " 'e_13': 2577.482538*log(x_0),\n",
       " 'e_14': 1786.57475415719,\n",
       " 'e_15': 2577.482538*log(x_1),\n",
       " 'e_16': 2577.482538*log(x_0),\n",
       " 'e_17': 2577.482538*log(x_0),\n",
       " 'e_18': 2577.482538*log(x_0),\n",
       " 'e_19': 0,\n",
       " 'e_2': 2577.482538*log(x_1),\n",
       " 'e_3': 2577.482538*log(x_1),\n",
       " 'e_4': 2577.482538*log(x_1),\n",
       " 'e_5': 2577.482538*log(x_0),\n",
       " 'e_6': 2577.482538*log(x_0),\n",
       " 'e_7': 2577.482538*log(x_0),\n",
       " 'e_8': 1786.57475415719,\n",
       " 'e_9': 0,\n",
       " 'f_0': -3.0*x_0**1.0 + 2*x_1**1.0,\n",
       " 'f_1': -3.0*x_0**1.0 + 2*x_1**1.0,\n",
       " 'f_10': 2.0*x_0**1.0 - x_1**1.0,\n",
       " 'f_11': -2.0*x_0**1.0 + x_1**1.0,\n",
       " 'f_12': -2.0*x_0**1.0 + x_1**1.0,\n",
       " 'f_13': 2.0*x_0**1.0 - x_1**1.0,\n",
       " 'f_14': 2.0*x_0**1.0 - x_1**1.0,\n",
       " 'f_15': -x_0**1.0 + x_1**1.0,\n",
       " 'f_16': x_0**1.0 - x_1**1.0,\n",
       " 'f_17': -x_0**1.0 + x_1**1.0,\n",
       " 'f_18': x_0**1.0 - x_1**1.0,\n",
       " 'f_19': x_0**1.0 - x_1**1.0,\n",
       " 'f_2': 2.0*x_0**1.0 - x_1**1.0,\n",
       " 'f_3': x_0**1.0 - x_1**1.0,\n",
       " 'f_4': 3.0*x_0**1.0 - 2*x_1**1.0,\n",
       " 'f_5': 3.0*x_0**1.0 - 2*x_1**1.0,\n",
       " 'f_6': -2.0*x_0**1.0 + x_1**1.0,\n",
       " 'f_7': -x_0**1.0 + x_1**1.0,\n",
       " 'f_8': -2.0*x_0**1.0 + x_1**1.0,\n",
       " 'f_9': -x_0**1.0 + x_1**1.0,\n",
       " 'x_0': x_0,\n",
       " 'x_1': x_1}"
      ]
     },
     "execution_count": 33,
     "metadata": {},
     "output_type": "execute_result"
    }
   ],
   "source": [
    "def full_equations(model):\n",
    "    # Load full equations of model\n",
    "    X, mapping, A, F, G = model.system_model()\n",
    "    # AX + F(X) = 0\n",
    "    # G(X) = 0\n",
    "    AX = sp.SparseMatrix(len(X), 1, A.dot(X)) + F\n",
    "    full_model_equations = {}\n",
    "    for i in range(AX.rows):\n",
    "        xi = X[i]\n",
    "        eqn = xi - AX[i,0]\n",
    "        full_model_equations[str(xi)] = eqn\n",
    "    return full_model_equations\n",
    "\n",
    "full_model_equations = full_equations(model_MM_rn)\n",
    "full_model_equations"
   ]
  },
  {
   "cell_type": "markdown",
   "metadata": {},
   "source": [
    "We then search for the relevant bonds connected to the **Re** components."
   ]
  },
  {
   "cell_type": "code",
   "execution_count": 34,
   "metadata": {},
   "outputs": [],
   "source": [
    "mapping = model_MM_rn.system_model()[1]\n",
    "\n",
    "# Define a function that returns the port for a component\n",
    "def find_port(component,index):\n",
    "    return list(component.ports.keys())[index]\n",
    "\n",
    "R1 = comp_search(model_MM_rn,metaclass='R',name='R1')\n",
    "bond_R1 = mapping[1][find_port(R1,0)]\n",
    "\n",
    "R2 = comp_search(model_MM_rn,metaclass='R',name='R2')\n",
    "bond_R2 = mapping[1][find_port(R2,0)]"
   ]
  },
  {
   "cell_type": "markdown",
   "metadata": {},
   "source": [
    "The flows of the bonds connected to each reaction can be used to calculate their reaction rates. We first extract the corresponding components of the full equation."
   ]
  },
  {
   "cell_type": "code",
   "execution_count": 35,
   "metadata": {},
   "outputs": [],
   "source": [
    "# Create a symbolic vector of the state variables\n",
    "num_states = len(model_MM_rn.state_vars)\n",
    "states = [sp.Symbol('x_'+str(i)) for i in range(num_states)]\n",
    "\n",
    "# Generate strings for the flows of the bonds connected to each reaction\n",
    "f_R1 = 'f_'+str(bond_R1)\n",
    "f_R2 = 'f_'+str(bond_R2)\n",
    "\n",
    "# Extract the symbolic form of each of the flows, in terms of the states\n",
    "V_R1 = full_model_equations[f_R1]\n",
    "V_R2 = full_model_equations[f_R2]"
   ]
  },
  {
   "cell_type": "code",
   "execution_count": 36,
   "metadata": {},
   "outputs": [
    {
     "data": {
      "image/png": "[encoded data removed]",
      "text/latex": [
       "$$2.0 x_{0}^{1.0} - x_{1}^{1.0}$$"
      ],
      "text/plain": [
       "      1.0     1.0\n",
       "2.0⋅x₀    - x₁   "
      ]
     },
     "execution_count": 36,
     "metadata": {},
     "output_type": "execute_result"
    }
   ],
   "source": [
    "V_R1"
   ]
  },
  {
   "cell_type": "code",
   "execution_count": 37,
   "metadata": {},
   "outputs": [
    {
     "data": {
      "image/png": "[encoded data removed]",
      "text/latex": [
       "$$- x_{0}^{1.0} + x_{1}^{1.0}$$"
      ],
      "text/plain": [
       "    1.0     1.0\n",
       "- x₀    + x₁   "
      ]
     },
     "execution_count": 37,
     "metadata": {},
     "output_type": "execute_result"
    }
   ],
   "source": [
    "V_R2"
   ]
  },
  {
   "cell_type": "markdown",
   "metadata": {},
   "source": [
    "These quantities can be converted into Python functions (taking a state vector as an import) using the `lambdify` function from `sympy`."
   ]
  },
  {
   "cell_type": "code",
   "execution_count": 38,
   "metadata": {},
   "outputs": [],
   "source": [
    "V_R1_func = sp.lambdify(([states]),V_R1)\n",
    "V_R2_func = sp.lambdify(([states]),V_R2)"
   ]
  },
  {
   "cell_type": "markdown",
   "metadata": {},
   "source": [
    "We use the simulation results from the previous section to calculate and plot the reaction rates. The reaction velocities converge to the same value at steady state, as expected."
   ]
  },
  {
   "cell_type": "code",
   "execution_count": 39,
   "metadata": {},
   "outputs": [
    {
     "data": {
      "text/plain": [
       "<matplotlib.legend.Legend at 0x1347bd50>"
      ]
     },
     "execution_count": 39,
     "metadata": {},
     "output_type": "execute_result"
    },
    {
     "data": {
      "image/png": "[encoded data removed]",
      "text/plain": [
       "<matplotlib.figure.Figure at 0x133aae90>"
      ]
     },
     "metadata": {},
     "output_type": "display_data"
    }
   ],
   "source": [
    "V = [[V_R1_func(states), V_R2_func(states)] for states in x]\n",
    "plt.plot(t,V)\n",
    "plt.xlabel('Time')\n",
    "plt.ylabel('Reaction velocity')\n",
    "plt.legend(['R1','R2'])"
   ]
  },
  {
   "cell_type": "markdown",
   "metadata": {},
   "source": [
    "We can also extract the efforts of these bonds, and use them to calculate and plot the affinities of each reaction."
   ]
  },
  {
   "cell_type": "code",
   "execution_count": 40,
   "metadata": {},
   "outputs": [
    {
     "data": {
      "text/plain": [
       "<matplotlib.legend.Legend at 0x3525ea50>"
      ]
     },
     "execution_count": 40,
     "metadata": {},
     "output_type": "execute_result"
    },
    {
     "data": {
      "image/png": "[encoded data removed]",
      "text/plain": [
       "<matplotlib.figure.Figure at 0x34f0ef70>"
      ]
     },
     "metadata": {},
     "output_type": "display_data"
    }
   ],
   "source": [
    "# Extract the bonds connected to the reactions corresponding to the forward and reverse directions\n",
    "R1 = comp_search(model_MM_rn,metaclass='R',name='R1')\n",
    "bond_R1f = mapping[1][find_port(R1,0)]\n",
    "bond_R1r = mapping[1][find_port(R1,1)]\n",
    "\n",
    "R2 = comp_search(model_MM_rn,metaclass='R',name='R2')\n",
    "bond_R2f = mapping[1][find_port(R2,0)]\n",
    "bond_R2r = mapping[1][find_port(R2,1)]\n",
    "\n",
    "# Generate strings for the efforts of the bonds connected to each reaction\n",
    "e_R1_f = 'e_'+str(bond_R1f)\n",
    "e_R1_r = 'e_'+str(bond_R1r)\n",
    "e_R2_f = 'e_'+str(bond_R2f)\n",
    "e_R2_r = 'e_'+str(bond_R2r)\n",
    "\n",
    "# Extract the symbolic form of each of the flows, in terms of the states\n",
    "A_R1_f = full_model_equations[e_R1_f]\n",
    "A_R1_r = full_model_equations[e_R1_r]\n",
    "A_R2_f = full_model_equations[e_R2_f]\n",
    "A_R2_r = full_model_equations[e_R2_r]\n",
    "\n",
    "# Convert the symbolic expressions to functions\n",
    "A_R1_f_func = sp.lambdify(([states]),A_R1_f)\n",
    "A_R1_r_func = sp.lambdify(([states]),A_R1_r)\n",
    "A_R2_f_func = sp.lambdify(([states]),A_R2_f)\n",
    "A_R2_r_func = sp.lambdify(([states]),A_R2_r)\n",
    "\n",
    "# Calculate the affinities of each reaction\n",
    "A = [[A_R1_f_func(s)-A_R1_r_func(s), A_R2_f_func(s)-A_R2_r_func(s)] for s in x]\n",
    "plt.plot(t,A)\n",
    "plt.xlabel('Time')\n",
    "plt.ylabel('Reaction affinity')\n",
    "plt.legend(['R1','R2'])"
   ]
  },
  {
   "cell_type": "markdown",
   "metadata": {},
   "source": [
    "Together with the reaction rates, these give the power consumption of the system."
   ]
  },
  {
   "cell_type": "code",
   "execution_count": 41,
   "metadata": {},
   "outputs": [
    {
     "data": {
      "text/plain": [
       "Text(0,0.5,'Power')"
      ]
     },
     "execution_count": 41,
     "metadata": {},
     "output_type": "execute_result"
    },
    {
     "data": {
      "image/png": "[encoded data removed]",
      "text/plain": [
       "<matplotlib.figure.Figure at 0x13406750>"
      ]
     },
     "metadata": {},
     "output_type": "display_data"
    }
   ],
   "source": [
    "power = np.array(V)*np.array(A)\n",
    "total_power = [sum(p) for p in power]\n",
    "plt.plot(t,total_power)\n",
    "plt.xlabel('Time')\n",
    "plt.ylabel('Power')"
   ]
  },
  {
   "cell_type": "markdown",
   "metadata": {},
   "source": [
    "It is also possible to extract the chemical potentials of each species using a similar approach. We do so in the code below, and plot how the chemical potentials change with respect to time."
   ]
  },
  {
   "cell_type": "code",
   "execution_count": 42,
   "metadata": {},
   "outputs": [
    {
     "data": {
      "text/plain": [
       "<matplotlib.legend.Legend at 0x118ab90>"
      ]
     },
     "execution_count": 42,
     "metadata": {},
     "output_type": "execute_result"
    },
    {
     "data": {
      "image/png": "[encoded data removed]",
      "text/plain": [
       "<matplotlib.figure.Figure at 0x354aa6f0>"
      ]
     },
     "metadata": {},
     "output_type": "display_data"
    }
   ],
   "source": [
    "species_bonds = {}\n",
    "species_potentials = {}\n",
    "species_potential_functions = {}\n",
    "chemical_potentials = {}\n",
    "for species in rn_MM.species:\n",
    "    comp = comp_search(model_MM_rn,metaclass='C',name=species)\n",
    "    if not comp:\n",
    "        comp = comp_search(model_MM_rn,metaclass='SS',name=species)\n",
    "    # Find the bond index\n",
    "    bond = mapping[1][find_port(comp,0)]\n",
    "    # Extract the equation for the effort of the bond\n",
    "    potential = full_model_equations['e_'+str(bond)]\n",
    "    # Create a function for the effort\n",
    "    potential_func = sp.lambdify(([states]),potential)\n",
    "    # Calculate the chemical potential over the simulation\n",
    "    cp = [potential_func(s) for s in x]\n",
    "    \n",
    "    # Store the results in a dictionary\n",
    "    species_bonds[species] = bond\n",
    "    species_potentials[species] = potential\n",
    "    species_potential_functions[species] = potential_func\n",
    "    chemical_potentials[species] = cp\n",
    "\n",
    "# Plot the chemical potential for each species\n",
    "plt.figure()\n",
    "for species in species_potential_functions.keys():\n",
    "    plt.plot(t,chemical_potentials[species])\n",
    "plt.xlabel('Time')\n",
    "plt.ylabel('Chemical potential')\n",
    "plt.legend(species_potential_functions.keys())"
   ]
  },
  {
   "cell_type": "markdown",
   "metadata": {},
   "source": [
    "## Creating a model of SERCA"
   ]
  },
  {
   "cell_type": "markdown",
   "metadata": {},
   "source": [
    "Here we will create a bond graph model of a more complicated system - the model of SERCA described in Tran et al. (2009), which was later represented as a bond graph in Pan et al. (2018). The reaction scheme for the network is shown below.\n",
    "\n",
    "![](Tran_SERCA.svg)"
   ]
  },
  {
   "cell_type": "markdown",
   "metadata": {},
   "source": [
    "To create this model, we make lists of the reactions and chemostats."
   ]
  },
  {
   "cell_type": "code",
   "execution_count": 43,
   "metadata": {},
   "outputs": [],
   "source": [
    "reactions = [\n",
    "    (\"P1 + MgATP = P2\", 'R1,2'),\n",
    "    (\"P2 + H = P2a\", 'R2,2a'),\n",
    "    (\"P2 + 2*Cai = P4\", 'R2,4'),\n",
    "    (\"P4 = P5 + 2*H\", 'R4,5'),\n",
    "    (\"P5 = P6 + MgADP\", 'R5,6'),\n",
    "    (\"P6 = P8 + 2*Casr\", 'R6,8'),\n",
    "    (\"P8 + 2*H = P9\", 'R8,9'),\n",
    "    (\"P9 = P10 + H\", 'R9,10'),\n",
    "    (\"P10 = P1 + Pi\", 'R10,1')\n",
    "]\n",
    "\n",
    "metabolites = ['MgATP', 'MgADP', 'Pi', 'H', 'Cai', 'Casr']"
   ]
  },
  {
   "cell_type": "markdown",
   "metadata": {},
   "source": [
    "We can then use for loops to sequentially add the reactions and chemostats to the model using the Reaction Builder."
   ]
  },
  {
   "cell_type": "code",
   "execution_count": 44,
   "metadata": {},
   "outputs": [
    {
     "name": "stdout",
     "output_type": "stream",
     "text": [
      "Species:\n",
      "['P1', 'MgATP', 'P2', 'H', 'P2a', 'Cai', 'P4', 'P5', 'P6', 'MgADP', 'P8', 'Casr', 'P9', 'P10', 'Pi']\n",
      "\n",
      "\n",
      "Reactions:\n",
      "R1,2 ({'P1': 1, 'MgATP': 1}, {'P2': 1}, None, None)\n",
      "R2,2a ({'P2': 1, 'H': 1}, {'P2a': 1}, None, None)\n",
      "R2,4 ({'P2': 1, 'Cai': 2}, {'P4': 1}, None, None)\n",
      "R4,5 ({'P4': 1}, {'P5': 1, 'H': 2}, None, None)\n",
      "R5,6 ({'P5': 1}, {'P6': 1, 'MgADP': 1}, None, None)\n",
      "R6,8 ({'P6': 1}, {'P8': 1, 'Casr': 2}, None, None)\n",
      "R8,9 ({'P8': 1, 'H': 2}, {'P9': 1}, None, None)\n",
      "R9,10 ({'P9': 1}, {'P10': 1, 'H': 1}, None, None)\n",
      "R10,1 ({'P10': 1}, {'P1': 1, 'Pi': 1}, None, None)\n"
     ]
    }
   ],
   "source": [
    "# Create a new reaction network\n",
    "rn_SERCA = Reaction_Network(name=\"SERCA Network\")\n",
    "\n",
    "# Add reactions to the reaction network\n",
    "for reaction, Re_name in reactions:\n",
    "    rn_SERCA.add_reaction(reaction=reaction, name=Re_name)\n",
    "\n",
    "# Add chemostats to the reaction network\n",
    "for metabolite in metabolites:\n",
    "    rn_SERCA.add_chemostat(metabolite)\n",
    "    \n",
    "# Print the species and reactions\n",
    "print('Species:')\n",
    "print(rn_SERCA.species)\n",
    "print('\\n')\n",
    "print('Reactions:')\n",
    "for reaction in rn_SERCA._reactions.keys():\n",
    "    print(reaction, rn_SERCA._reactions[reaction])"
   ]
  },
  {
   "cell_type": "markdown",
   "metadata": {},
   "source": [
    "We then convert the reaction network into a bond graph, and draw the bond graph."
   ]
  },
  {
   "cell_type": "code",
   "execution_count": 45,
   "metadata": {},
   "outputs": [
    {
     "data": {
      "image/png": "[encoded data removed]",
      "text/plain": [
       "<matplotlib.figure.Figure at 0x11d4690>"
      ]
     },
     "metadata": {},
     "output_type": "display_data"
    }
   ],
   "source": [
    "model_SERCA = rn_SERCA.as_network_model(normalised=True)\n",
    "bgt.draw(model_SERCA)"
   ]
  },
  {
   "cell_type": "markdown",
   "metadata": {},
   "source": [
    "We can also derive the differential equations for the model."
   ]
  },
  {
   "cell_type": "code",
   "execution_count": 46,
   "metadata": {},
   "outputs": [
    {
     "data": {
      "image/png": "[encoded data removed]",
      "text/latex": [
       "$$\\left [ dx_{0} + u_{17} u_{2} x_{0} e^{u_{19}} - u_{17} u_{9} x_{6} + u_{2} u_{22} x_{0} - u_{22} u_{3} x_{1} e^{2 u_{20}}, \\quad dx_{1} - u_{2} u_{22} x_{0} + u_{22} u_{3} x_{1} e^{2 u_{20}} + u_{23} u_{3} x_{1} e^{2 u_{18}} - u_{23} u_{7} x_{4}, \\quad dx_{2} - u_{11} u_{15} x_{8} + u_{11} u_{4} x_{2} e^{u_{6}} + u_{21} u_{4} x_{2} e^{u_{12}} - u_{21} u_{8} x_{5}, \\quad dx_{3} + u_{16} u_{5} x_{3} - u_{16} u_{8} x_{5} e^{u_{18}}, \\quad dx_{4} - u_{1} u_{15} x_{8} e^{u_{18}} + u_{1} u_{7} x_{4} - u_{23} u_{3} x_{1} e^{2 u_{18}} + u_{23} u_{7} x_{4}, \\quad dx_{5} - u_{0} u_{14} x_{7} + u_{0} u_{8} x_{5} e^{2 u_{13}} - u_{16} u_{5} x_{3} + u_{16} u_{8} x_{5} e^{u_{18}} - u_{21} u_{4} x_{2} e^{u_{12}} + u_{21} u_{8} x_{5}, \\quad dx_{6} - u_{10} u_{14} x_{7} + u_{10} u_{9} x_{6} e^{2 u_{18}} - u_{17} u_{2} x_{0} e^{u_{19}} + u_{17} u_{9} x_{6}, \\quad dx_{7} + u_{0} u_{14} x_{7} - u_{0} u_{8} x_{5} e^{2 u_{13}} + u_{10} u_{14} x_{7} - u_{10} u_{9} x_{6} e^{2 u_{18}}, \\quad dx_{8} + u_{1} u_{15} x_{8} e^{u_{18}} - u_{1} u_{7} x_{4} + u_{11} u_{15} x_{8} - u_{11} u_{4} x_{2} e^{u_{6}}\\right ]$$"
      ],
      "text/plain": [
       "⎡                 u₁₉                                      2⋅u₂₀              \n",
       "⎣dx₀ + u₁₇⋅u₂⋅x₀⋅ℯ    - u₁₇⋅u₉⋅x₆ + u₂⋅u₂₂⋅x₀ - u₂₂⋅u₃⋅x₁⋅ℯ     , dx₁ - u₂⋅u₂₂\n",
       "\n",
       "                 2⋅u₂₀              2⋅u₁₈                                     \n",
       "⋅x₀ + u₂₂⋅u₃⋅x₁⋅ℯ      + u₂₃⋅u₃⋅x₁⋅ℯ      - u₂₃⋅u₇⋅x₄, dx₂ - u₁₁⋅u₁₅⋅x₈ + u₁₁⋅\n",
       "\n",
       "       u₆              u₁₂                                           u₁₈      \n",
       "u₄⋅x₂⋅ℯ   + u₂₁⋅u₄⋅x₂⋅ℯ    - u₂₁⋅u₈⋅x₅, dx₃ + u₁₆⋅u₅⋅x₃ - u₁₆⋅u₈⋅x₅⋅ℯ   , dx₄ \n",
       "\n",
       "             u₁₈                         2⋅u₁₈                                \n",
       "- u₁⋅u₁₅⋅x₈⋅ℯ    + u₁⋅u₇⋅x₄ - u₂₃⋅u₃⋅x₁⋅ℯ      + u₂₃⋅u₇⋅x₄, dx₅ - u₀⋅u₁₄⋅x₇ + \n",
       "\n",
       "          2⋅u₁₃                          u₁₈              u₁₂                 \n",
       "u₀⋅u₈⋅x₅⋅ℯ      - u₁₆⋅u₅⋅x₃ + u₁₆⋅u₈⋅x₅⋅ℯ    - u₂₁⋅u₄⋅x₂⋅ℯ    + u₂₁⋅u₈⋅x₅, dx₆\n",
       "\n",
       "                           2⋅u₁₈              u₁₉                             \n",
       " - u₁₀⋅u₁₄⋅x₇ + u₁₀⋅u₉⋅x₆⋅ℯ      - u₁₇⋅u₂⋅x₀⋅ℯ    + u₁₇⋅u₉⋅x₆, dx₇ + u₀⋅u₁₄⋅x₇\n",
       "\n",
       "             2⋅u₁₃                           2⋅u₁₈                   u₁₈      \n",
       " - u₀⋅u₈⋅x₅⋅ℯ      + u₁₀⋅u₁₄⋅x₇ - u₁₀⋅u₉⋅x₆⋅ℯ     , dx₈ + u₁⋅u₁₅⋅x₈⋅ℯ    - u₁⋅\n",
       "\n",
       "                                u₆⎤\n",
       "u₇⋅x₄ + u₁₁⋅u₁₅⋅x₈ - u₁₁⋅u₄⋅x₂⋅ℯ  ⎦"
      ]
     },
     "execution_count": 46,
     "metadata": {},
     "output_type": "execute_result"
    }
   ],
   "source": [
    "model_SERCA.constitutive_relations"
   ]
  },
  {
   "cell_type": "markdown",
   "metadata": {},
   "source": [
    "The parameters for the model have not been set. We can define these parameters using a list."
   ]
  },
  {
   "cell_type": "code",
   "execution_count": 47,
   "metadata": {},
   "outputs": [],
   "source": [
    "reaction_rates = {\n",
    "    \"R1,2\": 0.00053004, \n",
    "    \"R2,2a\": 8326784.0537,\n",
    "    \"R2,4\": 1567.7476,\n",
    "    \"R4,5\": 1567.7476,\n",
    "    \"R5,6\": 3063.4006,\n",
    "    \"R6,8\": 130852.3839,\n",
    "    \"R8,9\": 11612934.8748,\n",
    "    \"R9,10\": 11612934.8748,\n",
    "    \"R10,1\": 0.049926\n",
    "}\n",
    "\n",
    "species_affinities = {\"P1\": 5263.6085,\n",
    "                   \"P2\": 3803.6518,\n",
    "                   \"P2a\": 3110.4445,\n",
    "                   \"P4\": 16520516.1239,\n",
    "                   \"P5\": 0.82914,\n",
    "                   \"P6\": 993148.433,\n",
    "                   \"P8\": 37.7379,\n",
    "                   \"P9\": 2230.2717,\n",
    "                   \"P10\": 410.6048,\n",
    "                   \"Cai\": 1.9058,\n",
    "                   \"Casr\": 31.764,\n",
    "                   \"MgATP\": 244.3021,\n",
    "                   \"MgADP\": 5.8126e-7,\n",
    "                   \"Pi\": 0.014921,\n",
    "                   \"H\": 1862.5406}"
   ]
  },
  {
   "cell_type": "markdown",
   "metadata": {},
   "source": [
    "A function can be defined to automatically set these parameters."
   ]
  },
  {
   "cell_type": "code",
   "execution_count": 48,
   "metadata": {},
   "outputs": [],
   "source": [
    "def set_chemical_params(model,reaction_rates,species_affinities,Gas_Constant,Temperature):\n",
    "    for reaction,rate in reaction_rates.items():\n",
    "        comp = comp_search(model,metaclass='R',name=reaction)\n",
    "        comp.set_param('r',rate)\n",
    "        comp.set_param('R',Gas_Constant)\n",
    "        comp.set_param('T',Temperature)\n",
    "    for species,affinity in species_affinities.items():\n",
    "        comp = comp_search(model,metaclass='C',name=species)\n",
    "        if comp:\n",
    "            comp.set_param('k',affinity)\n",
    "            comp.set_param('R',Gas_Constant)\n",
    "            comp.set_param('T',Temperature)\n",
    "            \n",
    "set_chemical_params(model_SERCA,reaction_rates,species_affinities,R,T)"
   ]
  },
  {
   "cell_type": "markdown",
   "metadata": {},
   "source": [
    "We can also set the efforts of the chemostats automatically using a function."
   ]
  },
  {
   "cell_type": "code",
   "execution_count": 49,
   "metadata": {},
   "outputs": [],
   "source": [
    "# Define the fixed amounts for each chemostat\n",
    "chemostat_amounts = {\n",
    "    \"Cai\": 0.0057,\n",
    "    \"Casr\": None,\n",
    "    \"H\": 0.004028,\n",
    "    \"MgADP\": 1.3794,\n",
    "    \"MgATP\": 3.8,\n",
    "    \"Pi\": 570\n",
    "}\n",
    "\n",
    "def set_chemostats(model,species_affinities,chemostat_amounts,Gas_Constant,Temperature):\n",
    "    for species, affinity in species_affinities.items():\n",
    "        comp = comp_search(model,metaclass='SS',name=species)\n",
    "        if comp and chemostat_amounts[species] != None:\n",
    "            effort = Gas_Constant*Temperature*np.log(species_affinities[species]*chemostat_amounts[species])\n",
    "            comp.set_param('e',effort)\n",
    "\n",
    "set_chemostats(model_SERCA,species_affinities,chemostat_amounts,R,T)"
   ]
  },
  {
   "cell_type": "markdown",
   "metadata": {},
   "source": [
    "We check the parameters have been set by deriving the differential equation again."
   ]
  },
  {
   "cell_type": "code",
   "execution_count": 50,
   "metadata": {},
   "outputs": [
    {
     "data": {
      "image/png": "[encoded data removed]",
      "text/latex": [
       "$$\\left [ dx_{0} + \\frac{64977921231987 x_{0}}{500} - \\frac{493809417837981 x_{1}}{100000000} e^{\\frac{387975470350209 u_{0}}{500000000000000000}} - \\frac{634996993371 x_{6}}{250000000}, \\quad dx_{1} - \\frac{129955840024599 x_{0}}{1000} + \\frac{493809417837981 x_{1}}{100000000} e^{\\frac{387975470350209 u_{0}}{500000000000000000}} + \\frac{49333296450869 x_{1}}{2000} - \\frac{129500000026047 x_{4}}{5000}, \\quad dx_{2} + \\frac{482504830082603 x_{2}}{100000000000} - \\frac{252010950009 x_{5}}{125000000000} - \\frac{1601551191 x_{8}}{78125000}, \\quad dx_{3} + \\frac{64749999156297 x_{3}}{2500} - \\frac{118807339213011 x_{5}}{500}, \\quad dx_{4} - \\frac{49333296450869 x_{1}}{2000} + \\frac{518000000104189 x_{4}}{10000} - \\frac{357734827121321 x_{8}}{10000}, \\quad dx_{5} - \\frac{129500971360511 x_{2}}{50000000000} - \\frac{64749999156297 x_{3}}{2500} + \\frac{29701834891466 x_{5}}{125} - \\frac{51799999008011 x_{7}}{2000}, \\quad dx_{6} - \\frac{243937525489403 x_{0}}{100000000000} + \\frac{757034810970363 x_{6}}{10000000000} - \\frac{51799999008011 x_{7}}{2000}, \\quad dx_{7} - \\frac{140737959485117 x_{5}}{200000000000} - \\frac{731634931235523 x_{6}}{10000000000} + \\frac{517999990080109 x_{7}}{10000}, \\quad dx_{8} - \\frac{223502887361581 x_{2}}{100000000000} - \\frac{129500000026047 x_{4}}{5000} + \\frac{4471685341579 x_{8}}{125}\\right ]$$"
      ],
      "text/plain": [
       "⎡                                              387975470350209⋅u₀             \n",
       "⎢                                              ──────────────────             \n",
       "⎢                                              500000000000000000             \n",
       "⎢      64977921231987⋅x₀   493809417837981⋅x₁⋅ℯ                     6349969933\n",
       "⎢dx₀ + ───────────────── - ────────────────────────────────────── - ──────────\n",
       "⎣             500                        100000000                     2500000\n",
       "\n",
       "                                                      387975470350209⋅u₀      \n",
       "                                                      ──────────────────      \n",
       "                                                      500000000000000000      \n",
       "71⋅x₆        129955840024599⋅x₀   493809417837981⋅x₁⋅ℯ                     493\n",
       "─────, dx₁ - ────────────────── + ────────────────────────────────────── + ───\n",
       "00                  1000                        100000000                     \n",
       "\n",
       "                                                                              \n",
       "                                                                              \n",
       "                                                                              \n",
       "33296450869⋅x₁   129500000026047⋅x₄        482504830082603⋅x₂   252010950009⋅x\n",
       "────────────── - ──────────────────, dx₂ + ────────────────── - ──────────────\n",
       "    2000                5000                  100000000000        125000000000\n",
       "\n",
       "                                                                              \n",
       "                                                                              \n",
       "                                                                              \n",
       "₅   1601551191⋅x₈        64749999156297⋅x₃   118807339213011⋅x₅        4933329\n",
       "─ - ─────────────, dx₃ + ───────────────── - ──────────────────, dx₄ - ───────\n",
       "       78125000                 2500                500                       \n",
       "\n",
       "                                                                              \n",
       "                                                                              \n",
       "                                                                              \n",
       "6450869⋅x₁   518000000104189⋅x₄   357734827121321⋅x₈        129500971360511⋅x₂\n",
       "────────── + ────────────────── - ──────────────────, dx₅ - ──────────────────\n",
       "2000               10000                10000                  50000000000    \n",
       "\n",
       "                                                                              \n",
       "                                                                              \n",
       "                                                                              \n",
       "   64749999156297⋅x₃   29701834891466⋅x₅   51799999008011⋅x₇        2439375254\n",
       " - ───────────────── + ───────────────── - ─────────────────, dx₆ - ──────────\n",
       "          2500                125                 2000                 1000000\n",
       "\n",
       "                                                                              \n",
       "                                                                              \n",
       "                                                                              \n",
       "89403⋅x₀   757034810970363⋅x₆   51799999008011⋅x₇        140737959485117⋅x₅   \n",
       "──────── + ────────────────── - ─────────────────, dx₇ - ────────────────── - \n",
       "00000         10000000000              2000                 200000000000      \n",
       "\n",
       "                                                                              \n",
       "                                                                              \n",
       "                                                                              \n",
       "731634931235523⋅x₆   517999990080109⋅x₇        223502887361581⋅x₂   1295000000\n",
       "────────────────── + ──────────────────, dx₈ - ────────────────── - ──────────\n",
       "   10000000000             10000                  100000000000             500\n",
       "\n",
       "                           ⎤\n",
       "                           ⎥\n",
       "                           ⎥\n",
       "26047⋅x₄   4471685341579⋅x₈⎥\n",
       "──────── + ────────────────⎥\n",
       "0                125       ⎦"
      ]
     },
     "execution_count": 50,
     "metadata": {},
     "output_type": "execute_result"
    }
   ],
   "source": [
    "model_SERCA.constitutive_relations"
   ]
  },
  {
   "cell_type": "markdown",
   "metadata": {},
   "source": [
    "We will next simulate this model. We first set the initial conditions of the model."
   ]
  },
  {
   "cell_type": "code",
   "execution_count": 51,
   "metadata": {},
   "outputs": [
    {
     "data": {
      "image/png": "[encoded data removed]",
      "text/latex": [
       "$$\\left [ 7.80721128535043e-05, \\quad 0.156693953834181, \\quad 0.000483061870385487, \\quad 0.527445119834607, \\quad 0.149232225342376, \\quad 0.0574915174273067, \\quad 0.000521923287622898, \\quad 1.51818391164022e-09, \\quad 0.108044124948978\\right ]$$"
      ],
      "text/plain": [
       "[7.80721128535043e-05, 0.156693953834181, 0.000483061870385487, 0.527445119834\n",
       "607, 0.149232225342376, 0.0574915174273067, 0.000521923287622898, 1.5181839116\n",
       "4022e-09, 0.108044124948978]"
      ]
     },
     "execution_count": 51,
     "metadata": {},
     "output_type": "execute_result"
    }
   ],
   "source": [
    "# Initial Conditions\n",
    "initial_conditions = {\n",
    "    \"P1\": 0.000483061870385487,\n",
    "    \"P2\": 0.0574915174273067,\n",
    "    \"P2a\": 0.527445119834607,\n",
    "    \"P4\": 1.51818391164022e-09,\n",
    "    \"P5\": 0.000521923287622898,\n",
    "    \"P6\": 7.80721128535043e-05,\n",
    "    \"P8\": 0.156693953834181,\n",
    "    \"P9\": 0.149232225342376,\n",
    "    \"P10\": 0.108044124948978\n",
    "}\n",
    "\n",
    "def simulation_ic(model,initial_conditions):\n",
    "    num_states = len(model.state_vars)\n",
    "    array_initial_conditions = [0]*num_states\n",
    "    state_order = [[]]*num_states\n",
    "    for i in range(num_states):\n",
    "        comp = model.state_vars['x_'+str(i)][0]\n",
    "        array_initial_conditions[i] = initial_conditions[comp.name]\n",
    "        state_order[i] = comp.name\n",
    "    return array_initial_conditions, state_order\n",
    "\n",
    "array_initial_conditions, state_order = simulation_ic(model_SERCA,initial_conditions)\n",
    "array_initial_conditions"
   ]
  },
  {
   "cell_type": "markdown",
   "metadata": {},
   "source": [
    "We finally simulate and plot the model. The amount of SR calcium was left as a control variable, and we allow it to gradually increase over time, according to the function $[\\mathrm{ Ca_{sr}^{2+}}] = 0.05+0.01t$."
   ]
  },
  {
   "cell_type": "code",
   "execution_count": 52,
   "metadata": {
    "scrolled": true
   },
   "outputs": [
    {
     "data": {
      "text/plain": [
       "<matplotlib.legend.Legend at 0x1937f10>"
      ]
     },
     "execution_count": 52,
     "metadata": {},
     "output_type": "execute_result"
    },
    {
     "data": {
      "image/png": "[encoded data removed]",
      "text/plain": [
       "<matplotlib.figure.Figure at 0x17a7b30>"
      ]
     },
     "metadata": {},
     "output_type": "display_data"
    }
   ],
   "source": [
    "vol_sr = 2.28\n",
    "K_Casr = species_affinities['Casr']\n",
    "\n",
    "t,x = bgt.simulate(model_SERCA, timespan = (0.0,195.0), x0 = array_initial_conditions, dt=1, \n",
    "                   control_vars={'u_0':f'{R}*{T}*log({K_Casr}*(0.05+0.01t)*{vol_sr})'})\n",
    "plt.plot(t,x)\n",
    "plt.xlabel('Time')\n",
    "plt.ylabel('Amount')\n",
    "plt.legend(state_order)"
   ]
  },
  {
   "cell_type": "markdown",
   "metadata": {},
   "source": [
    "Using the functions defined in the previous section, we can also find the flux through R1,2 to calculate the cycling rate of the pump, which we plot against SR calcium concentration."
   ]
  },
  {
   "cell_type": "code",
   "execution_count": 53,
   "metadata": {},
   "outputs": [
    {
     "data": {
      "text/plain": [
       "Text(0,0.5,'Cycling rate')"
      ]
     },
     "execution_count": 53,
     "metadata": {},
     "output_type": "execute_result"
    },
    {
     "data": {
      "image/png": "[encoded data removed]",
      "text/plain": [
       "<matplotlib.figure.Figure at 0x354bb9f0>"
      ]
     },
     "metadata": {},
     "output_type": "display_data"
    }
   ],
   "source": [
    "# Derive the full model equations\n",
    "full_model_equations = full_equations(model_SERCA)\n",
    "\n",
    "# Find the bond associated with R1\n",
    "mapping = model_SERCA.system_model()[1]\n",
    "R12 = comp_search(model_SERCA,metaclass='R',name='R1,2')\n",
    "bond_R12 = mapping[1][find_port(R12,0)]\n",
    "\n",
    "# Create a symbolic vector of the state variables\n",
    "num_states = len(model_SERCA.state_vars)\n",
    "states = [sp.Symbol('x_'+str(i)) for i in range(num_states)]\n",
    "\n",
    "# Generate strings for the flows of the bonds connected to each reaction\n",
    "f_R12 = 'f_'+str(bond_R12)\n",
    "\n",
    "# Extract the symbolic form of each of the flows, in terms of the states\n",
    "V_R12 = full_model_equations[f_R12]\n",
    "\n",
    "# Convert the symbolic form to a function\n",
    "V_R12_func = sp.lambdify(([states]),V_R12)\n",
    "\n",
    "# Calculate the flow through the reaction using states from the simulation\n",
    "cyc_rate = [V_R12_func(s) for s in x]\n",
    "\n",
    "# Generate a vector for SR calcium concentration\n",
    "Casr = [0.05+0.01*time for time in t]\n",
    "\n",
    "# Plot the cycling rate\n",
    "plt.plot(Casr,cyc_rate)\n",
    "plt.xlabel('SR calcium concentration')\n",
    "plt.ylabel('Cycling rate')"
   ]
  },
  {
   "cell_type": "markdown",
   "metadata": {},
   "source": [
    "## References\n",
    "Tran, K., Smith, N.P., Loiselle, D.S. and Crampin, E.J., 2009. A thermodynamic model of the cardiac sarcoplasmic/endoplasmic Ca2+ (SERCA) pump. *Biophysical journal*, 96(5), pp.2029-2042. https://doi.org/10.1016/j.bpj.2008.11.045\n",
    "\n",
    "Pan, M., Gawthrop, P.J., Tran, K., Cursons, J. and Crampin, E.J., 2018. A thermodynamic framework for modelling membrane transporters. *arXiv preprint arXiv:1806.04341*. https://arxiv.org/abs/1806.04341"
   ]
  }
 ],
 "metadata": {
  "kernelspec": {
   "display_name": "Python 3",
   "language": "python",
   "name": "python3"
  },
  "language_info": {
   "codemirror_mode": {
    "name": "ipython",
    "version": 3
   },
   "file_extension": ".py",
   "mimetype": "text/x-python",
   "name": "python",
   "nbconvert_exporter": "python",
   "pygments_lexer": "ipython3",
   "version": "3.6.6"
  }
 },
 "nbformat": 4,
 "nbformat_minor": 2
}
