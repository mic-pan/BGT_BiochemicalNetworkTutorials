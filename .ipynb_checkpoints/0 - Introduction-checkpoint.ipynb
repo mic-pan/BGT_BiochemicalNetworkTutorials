{
 "cells": [
  {
   "cell_type": "markdown",
   "metadata": {},
   "source": [
    "# Biochemical Network Tutorial\n",
    "\n",
    "This tutorial deals with the creation and simulation of biochemical networks using bond graphs. In this tutorial, we will use the BondGraphTools package to:\n",
    "* create bond graph components of biochemistry\n",
    "* link components together using bonds\n",
    "* draw bond graphs of biochemical networks\n",
    "* set parameters for bond graph components\n",
    "* simulate bond graph models of biochemical networks\n",
    "* change the initial conditions and control variables for simulations\n",
    "* extract efforts and flows from a bond graph to calculate reaction fluxes and affinities"
   ]
  }
 ],
 "metadata": {
  "kernelspec": {
   "display_name": "Python 3",
   "language": "python",
   "name": "python3"
  },
  "language_info": {
   "codemirror_mode": {
    "name": "ipython",
    "version": 3
   },
   "file_extension": ".py",
   "mimetype": "text/x-python",
   "name": "python",
   "nbconvert_exporter": "python",
   "pygments_lexer": "ipython3",
   "version": "3.7.3"
  }
 },
 "nbformat": 4,
 "nbformat_minor": 2
}
