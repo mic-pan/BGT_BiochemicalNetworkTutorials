{
 "cells": [
  {
   "cell_type": "markdown",
   "metadata": {},
   "source": [
    "# Energetic analysis of biochemical systems\n",
    "In addition to the flow of mass, energy flows through biochemical networks. Because bond graphs explicily model the flow of power, they naturally enable the analysis of the energetics of biochemical systems. In this notebook we demonstrate how BondGraphTools can be used to examine such energetic quantities. We first create and simulate the Michaelis-Menten model seen in the previous notebook:"
   ]
  },
  {
   "cell_type": "code",
   "execution_count": 1,
   "metadata": {},
   "outputs": [
    {
     "data": {
      "text/plain": [
       "<matplotlib.legend.Legend at 0x26ebe875eb8>"
      ]
     },
     "execution_count": 1,
     "metadata": {},
     "output_type": "execute_result"
    }
   ],
   "source": [
    "from BondGraphTools import reaction_builder\n",
    "from BondGraphTools.reaction_builder import Reaction_Network\n",
    "\n",
    "from BondGraphTools import simulate\n",
    "from numpy import log, array\n",
    "import matplotlib.pyplot as plt\n",
    "from sympy import init_printing, SparseMatrix, Eq, Symbol, lambdify\n",
    "init_printing()\n",
    "\n",
    "def initialise_MM_model():\n",
    "    rn_MM = Reaction_Network(name='Michaelis-Menten enzyme',temperature=310)\n",
    "    rn_MM.add_reaction('E + S = C', name='R1')\n",
    "    rn_MM.add_reaction('C = E + P', name='R2')\n",
    "    rn_MM.add_chemostat('S')\n",
    "    rn_MM.add_chemostat('P')\n",
    "    \n",
    "    model = rn_MM.as_network_model()\n",
    "    \n",
    "    (model/\"C:E\").set_param('k',1)\n",
    "    (model/\"C:C\").set_param('k',1)\n",
    "    (model/\"R:R1\").set_param('r',1)\n",
    "    (model/\"R:R2\").set_param('r',1)\n",
    "    \n",
    "    R = reaction_builder.R\n",
    "    T = 310\n",
    "    K_S = 1\n",
    "    K_P = 1\n",
    "    x_S = 2\n",
    "    x_P = 1\n",
    "    (model/\"SS:S\").set_param('e',R*T*log(K_S*x_S))\n",
    "    (model/\"SS:P\").set_param('e',R*T*log(K_P*x_P))\n",
    "    return rn_MM,model\n",
    "\n",
    "rn,model = initialise_MM_model()\n",
    "t,x = simulate(model, timespan=(0.,3.), x0=[1,2])\n",
    "plt.plot(t,x)\n",
    "plt.xlabel('Time')\n",
    "plt.ylabel('Amount')\n",
    "plt.legend(['E','C'])"
   ]
  },
  {
   "cell_type": "markdown",
   "metadata": {},
   "source": [
    "In order to examine the energetics of biochemical systems, we require values (i.e. potentials and mass flows) associated with the bonds of each model rather than the states of the model. These quantities can be extracted using the full equations of the model.\n",
    "\n",
    "Below we define a function that outputs the full equations of the model"
   ]
  },
  {
   "cell_type": "code",
   "execution_count": 2,
   "metadata": {},
   "outputs": [
    {
     "data": {
      "text/plain": [
       "{'dx_0': -3.0*x_0**1.0 + 2*x_1**1.0,\n",
       " 'dx_1': 3.0*x_0**1.0 - 2*x_1**1.0,\n",
       " 'e_0': 2577.482538*log(x_0),\n",
       " 'f_0': -3.0*x_0**1.0 + 2*x_1**1.0,\n",
       " 'e_1': 2577.482538*log(x_0),\n",
       " 'f_1': 3.0*x_0**1.0 - 2*x_1**1.0,\n",
       " 'e_2': 2577.482538*log(x_0),\n",
       " 'f_2': -2.0*x_0**1.0 + x_1**1.0,\n",
       " 'e_3': 2577.482538*log(x_0),\n",
       " 'f_3': -x_0**1.0 + x_1**1.0,\n",
       " 'e_4': 1786.57475415719,\n",
       " 'f_4': -2.0*x_0**1.0 + x_1**1.0,\n",
       " 'e_5': 2577.482538*log(x_1),\n",
       " 'f_5': 3.0*x_0**1.0 - 2*x_1**1.0,\n",
       " 'e_6': 2577.482538*log(x_1),\n",
       " 'f_6': -3.0*x_0**1.0 + 2*x_1**1.0,\n",
       " 'e_7': 2577.482538*log(x_1),\n",
       " 'f_7': 2.0*x_0**1.0 - x_1**1.0,\n",
       " 'e_8': 2577.482538*log(x_1),\n",
       " 'f_8': x_0**1.0 - x_1**1.0,\n",
       " 'e_9': 0,\n",
       " 'f_9': -x_0**1.0 + x_1**1.0,\n",
       " 'e_10': 2577.482538*log(x_0) + 1786.57475415719,\n",
       " 'f_10': 2.0*x_0**1.0 - x_1**1.0,\n",
       " 'e_11': 2577.482538*log(x_1),\n",
       " 'f_11': -2.0*x_0**1.0 + x_1**1.0,\n",
       " 'e_12': 2577.482538*log(x_0) + 1786.57475415719,\n",
       " 'f_12': -2.0*x_0**1.0 + x_1**1.0,\n",
       " 'e_13': 2577.482538*log(x_0),\n",
       " 'f_13': 2.0*x_0**1.0 - x_1**1.0,\n",
       " 'e_14': 1786.57475415719,\n",
       " 'f_14': 2.0*x_0**1.0 - x_1**1.0,\n",
       " 'e_15': 2577.482538*log(x_1),\n",
       " 'f_15': -x_0**1.0 + x_1**1.0,\n",
       " 'e_16': 2577.482538*log(x_0),\n",
       " 'f_16': x_0**1.0 - x_1**1.0,\n",
       " 'e_17': 2577.482538*log(x_0),\n",
       " 'f_17': -x_0**1.0 + x_1**1.0,\n",
       " 'e_18': 2577.482538*log(x_0),\n",
       " 'f_18': x_0**1.0 - x_1**1.0,\n",
       " 'e_19': 0,\n",
       " 'f_19': x_0**1.0 - x_1**1.0,\n",
       " 'x_0': x_0,\n",
       " 'x_1': x_1}"
      ]
     },
     "execution_count": 2,
     "metadata": {},
     "output_type": "execute_result"
    }
   ],
   "source": [
    "def full_equations(model):\n",
    "    # Load full equations of model\n",
    "    X, mapping, A, F, G = model.system_model()\n",
    "    # AX + F(X) = 0\n",
    "    # G(X) = 0\n",
    "    AX = A*SparseMatrix(X) + F\n",
    "    full_model_equations = {}\n",
    "    for i in range(AX.rows):\n",
    "        xi = X[i]\n",
    "        eqn = xi - AX[i,0]\n",
    "        full_model_equations[str(xi)] = eqn\n",
    "    return full_model_equations\n",
    "\n",
    "full_model_equations = full_equations(model)\n",
    "full_model_equations"
   ]
  },
  {
   "cell_type": "markdown",
   "metadata": {},
   "source": [
    "We then search for the relevant bonds connected to the **Re** components and extract the correct mathematical expressions for their fluxes."
   ]
  },
  {
   "cell_type": "code",
   "execution_count": 3,
   "metadata": {},
   "outputs": [
    {
     "data": {
      "image/png": "[encoded data removed]",
      "text/latex": [
       "$$V_{1} = 2.0 x_{0}^{1.0} - x_{1}^{1.0}$$"
      ],
      "text/plain": [
       "           1.0     1.0\n",
       "V₁ = 2.0⋅x₀    - x₁   "
      ]
     },
     "metadata": {},
     "output_type": "display_data"
    },
    {
     "data": {
      "image/png": "[encoded data removed]",
      "text/latex": [
       "$$V_{2} = - x_{0}^{1.0} + x_{1}^{1.0}$$"
      ],
      "text/plain": [
       "         1.0     1.0\n",
       "V₂ = - x₀    + x₁   "
      ]
     },
     "metadata": {},
     "output_type": "display_data"
    }
   ],
   "source": [
    "# Define a function that returns the port for a component\n",
    "def find_port(component,direction):\n",
    "    if direction in ['f', 'forward']:\n",
    "        index = 0\n",
    "    elif direction in ['r', 'reverse']:\n",
    "        index = 1\n",
    "    return list(component.ports.keys())[index]\n",
    "\n",
    "# Returns the mathematical expression for a flux\n",
    "def reaction_flux_expression(model,Re_comp,direction):\n",
    "    mapping = model.system_model()[1]\n",
    "    port = find_port(Re_comp,direction)\n",
    "    bond_index = mapping[1][port]\n",
    "    \n",
    "    full_model_equations = full_equations(model)\n",
    "    V = full_model_equations[f'f_{bond_index}']\n",
    "    return V\n",
    "    \n",
    "R1 = model/\"R:R1\"\n",
    "R2 = model/\"R:R2\"\n",
    "\n",
    "V_R1 = reaction_flux_expression(model,R1,'f')\n",
    "V_R2 = reaction_flux_expression(model,R2,'f')\n",
    "\n",
    "display(Eq(Symbol(\"V_1\"),V_R1))\n",
    "display(Eq(Symbol(\"V_2\"),V_R2))"
   ]
  },
  {
   "cell_type": "markdown",
   "metadata": {},
   "source": [
    "The flows of the bonds connected to each reaction can be used to calculate their reaction rates. We first extract the corresponding components of the full equation."
   ]
  },
  {
   "cell_type": "markdown",
   "metadata": {},
   "source": [
    "These quantities can be converted into Python functions (taking a state vector as an import) using the `lambdify` function from `sympy`."
   ]
  },
  {
   "cell_type": "code",
   "execution_count": 4,
   "metadata": {},
   "outputs": [],
   "source": [
    "# Returns a function that can be used to compute flux\n",
    "def flux_function(model,Re_comp):\n",
    "    V = reaction_flux_expression(model,Re_comp,'f')\n",
    "    return convert_to_function(V,model)\n",
    "\n",
    "# Converts a symbolic expression to a function\n",
    "def convert_to_function(expression,model):\n",
    "    states = [Symbol(x) for x in model.state_vars.keys()]\n",
    "    return lambdify(([states]),expression)\n",
    "\n",
    "V_R1_func = flux_function(model,R1)\n",
    "V_R2_func = flux_function(model,R2)"
   ]
  },
  {
   "cell_type": "markdown",
   "metadata": {},
   "source": [
    "We use the simulation results from the previous section to calculate and plot the reaction rates. The reaction velocities converge to the same value at steady state, as expected."
   ]
  },
  {
   "cell_type": "code",
   "execution_count": 5,
   "metadata": {},
   "outputs": [
    {
     "data": {
      "text/plain": [
       "<matplotlib.legend.Legend at 0x26ed96eff98>"
      ]
     },
     "execution_count": 5,
     "metadata": {},
     "output_type": "execute_result"
    },
    {
     "data": {
      "image/png": "[encoded data removed]",
      "text/plain": [
       "<Figure size 432x288 with 1 Axes>"
      ]
     },
     "metadata": {
      "needs_background": "light"
     },
     "output_type": "display_data"
    }
   ],
   "source": [
    "V = [[V_R1_func(states), V_R2_func(states)] for states in x]\n",
    "plt.plot(t,V)\n",
    "plt.xlabel('Time')\n",
    "plt.ylabel('Reaction velocity')\n",
    "plt.legend(['R1','R2'])"
   ]
  },
  {
   "cell_type": "markdown",
   "metadata": {},
   "source": [
    "We can also extract the efforts of these bonds, and use them to calculate and plot the affinities of each reaction."
   ]
  },
  {
   "cell_type": "code",
   "execution_count": 6,
   "metadata": {},
   "outputs": [
    {
     "data": {
      "text/plain": [
       "<matplotlib.legend.Legend at 0x26ebe86e320>"
      ]
     },
     "execution_count": 6,
     "metadata": {},
     "output_type": "execute_result"
    },
    {
     "data": {
      "image/png": "[encoded data removed]",
      "text/plain": [
       "<Figure size 432x288 with 1 Axes>"
      ]
     },
     "metadata": {
      "needs_background": "light"
     },
     "output_type": "display_data"
    }
   ],
   "source": [
    "# Extracts an expression for reaction affinity\n",
    "def reaction_affinity_expression(model,Re_comp,direction):\n",
    "    mapping = model.system_model()[1]\n",
    "    port = find_port(Re_comp,direction)\n",
    "    bond_index = mapping[1][port]\n",
    "    \n",
    "    full_model_equations = full_equations(model)\n",
    "    A = full_model_equations[f'e_{bond_index}']\n",
    "    return A\n",
    "\n",
    "# Extracts the net reaction affinity\n",
    "def reaction_affinity(model,Re_comp):\n",
    "    Af = reaction_affinity_expression(model,Re_comp,'f')\n",
    "    Ar = reaction_affinity_expression(model,Re_comp,'r')\n",
    "    return Af-Ar\n",
    "\n",
    "# Extracts a function that can be used to calculate reaction affinity\n",
    "def reaction_affinity_function(model,Re_comp):\n",
    "    A = reaction_affinity(model,Re_comp)\n",
    "    return convert_to_function(A,model)\n",
    "\n",
    "A_R1 = reaction_affinity_function(model,R1)\n",
    "A_R2 = reaction_affinity_function(model,R2)\n",
    "\n",
    "# Calculate the affinities of each and plot\n",
    "A = [[A_R1(s), A_R2(s)] for s in x]\n",
    "plt.plot(t,A)\n",
    "plt.xlabel('Time')\n",
    "plt.ylabel('Reaction affinity')\n",
    "plt.legend(['R1','R2'])"
   ]
  },
  {
   "cell_type": "markdown",
   "metadata": {},
   "source": [
    "Together with the reaction rates, these give the power consumption of the system."
   ]
  },
  {
   "cell_type": "code",
   "execution_count": 7,
   "metadata": {},
   "outputs": [
    {
     "data": {
      "text/plain": [
       "Text(0,0.5,'Power')"
      ]
     },
     "execution_count": 7,
     "metadata": {},
     "output_type": "execute_result"
    },
    {
     "data": {
      "image/png": "[encoded data removed]",
      "text/plain": [
       "<Figure size 432x288 with 1 Axes>"
      ]
     },
     "metadata": {
      "needs_background": "light"
     },
     "output_type": "display_data"
    }
   ],
   "source": [
    "power = array(V)*array(A)\n",
    "total_power = [sum(p) for p in power]\n",
    "plt.plot(t,total_power)\n",
    "plt.xlabel('Time')\n",
    "plt.ylabel('Power')"
   ]
  },
  {
   "cell_type": "markdown",
   "metadata": {},
   "source": [
    "It is also possible to extract the chemical potentials of each species using a similar approach. We do so in the code below, and plot how the chemical potentials change with respect to time."
   ]
  },
  {
   "cell_type": "code",
   "execution_count": 8,
   "metadata": {},
   "outputs": [
    {
     "data": {
      "text/plain": [
       "<matplotlib.legend.Legend at 0x26ed99d5748>"
      ]
     },
     "execution_count": 8,
     "metadata": {},
     "output_type": "execute_result"
    },
    {
     "data": {
      "image/png": "[encoded data removed]",
      "text/plain": [
       "<Figure size 432x288 with 1 Axes>"
      ]
     },
     "metadata": {
      "needs_background": "light"
     },
     "output_type": "display_data"
    }
   ],
   "source": [
    "# Find the component corresponding to a species\n",
    "def find_species(model,species,metabolites):\n",
    "    if species in metabolites:\n",
    "        return model/f'SS:{species}'\n",
    "    else:\n",
    "        return model/f'C:{species}'\n",
    "\n",
    "# Find the port corresponding to a C component\n",
    "def find_species_port(component,direction):\n",
    "    return list(component.ports.keys())[0]\n",
    "\n",
    "# Returns a symbolic expression for the chemical potential of a species\n",
    "def species_potential(model,species):\n",
    "    comp = find_species(model,species,metabolites)\n",
    "    mapping = model.system_model()[1]\n",
    "    bond_index = mapping[1][find_species_port(comp,0)]\n",
    "    \n",
    "    full_model_equations = full_equations(model)\n",
    "    potential = full_model_equations[f'e_{bond_index}']\n",
    "    return potential\n",
    "\n",
    "# Returns a function that can be used to calculate the chemical potential of a species\n",
    "def species_potential_func(model,species):\n",
    "    potential = species_potential(model,species)\n",
    "    return convert_to_function(potential,model)\n",
    "    \n",
    "chemical_potentials = {}\n",
    "metabolites = list(rn._chemostats.keys())\n",
    "\n",
    "for species in rn.species:\n",
    "    potential_func = species_potential_func(model,species)\n",
    "    # Calculate the chemical potential over the simulation\n",
    "    cp = [potential_func(s) for s in x]\n",
    "    # Store the results in a dictionary\n",
    "    chemical_potentials[species] = cp\n",
    "\n",
    "# Plot the chemical potential for each species\n",
    "plt.figure()\n",
    "for species in chemical_potentials.keys():\n",
    "    plt.plot(t,chemical_potentials[species])\n",
    "plt.xlabel('Time')\n",
    "plt.ylabel('Chemical potential')\n",
    "plt.legend(chemical_potentials.keys())"
   ]
  }
 ],
 "metadata": {
  "kernelspec": {
   "display_name": "Python 3",
   "language": "python",
   "name": "python3"
  },
  "language_info": {
   "codemirror_mode": {
    "name": "ipython",
    "version": 3
   },
   "file_extension": ".py",
   "mimetype": "text/x-python",
   "name": "python",
   "nbconvert_exporter": "python",
   "pygments_lexer": "ipython3",
   "version": "3.7.3"
  }
 },
 "nbformat": 4,
 "nbformat_minor": 2
}
