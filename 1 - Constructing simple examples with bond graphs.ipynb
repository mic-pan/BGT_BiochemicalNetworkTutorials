{
 "cells": [
  {
   "cell_type": "markdown",
   "metadata": {},
   "source": [
    "# Constructing simple models of biochemical networks with BondGraphTools"
   ]
  },
  {
   "cell_type": "markdown",
   "metadata": {},
   "source": [
    "In this notebook we introduce the basics of the BondGraphTools package and use it to construct simple bond graph representations of biochemical networks."
   ]
  },
  {
   "cell_type": "code",
   "execution_count": 1,
   "metadata": {},
   "outputs": [],
   "source": [
    "# Import packages\n",
    "import BondGraphTools as bgt\n",
    "from BondGraphTools.actions import new, add, connect\n",
    "from BondGraphTools import draw, simulate\n",
    "from numpy import log\n",
    "import matplotlib.pyplot as plt\n",
    "import sympy as sp\n",
    "from sympy import init_printing\n",
    "init_printing()"
   ]
  },
  {
   "cell_type": "markdown",
   "metadata": {},
   "source": [
    "## A simple example\n",
    "In this section we work with the simple biochemical reaction $A + B \\rightleftharpoons C$. The bond graph for this system is shown below, where the bonds have been numbered in blue for ease of reference.\n",
    "\n",
    "![](ABC.svg)\n",
    "\n",
    "We begin by creating each of the components, and adding them to the model."
   ]
  },
  {
   "cell_type": "code",
   "execution_count": 2,
   "metadata": {},
   "outputs": [
    {
     "data": {
      "text/plain": [
       "OrderedSet([C: A, C: B, C: C, R: R1, 1: AB])"
      ]
     },
     "execution_count": 2,
     "metadata": {},
     "output_type": "execute_result"
    }
   ],
   "source": [
    "# Create a new model\n",
    "model_ABC = new(name='ABC')\n",
    "\n",
    "# Define the components\n",
    "C_A = new(component='Ce',name='A',library='BioChem') # C:A\n",
    "C_B = new(component='Ce',name='B',library='BioChem') # C:B\n",
    "C_C = new(component='Ce',name='C',library='BioChem') # C:C\n",
    "Re = new(component='Re',name='R1',library='BioChem') # Re:R1\n",
    "flow = new(component='1',name='AB') # 1 junction\n",
    "\n",
    "# Add components to the model\n",
    "add(model_ABC,C_A,C_B,C_C,Re,flow)\n",
    "\n",
    "# List the components to check they have been added\n",
    "model_ABC.components"
   ]
  },
  {
   "cell_type": "markdown",
   "metadata": {},
   "source": [
    "Next we define the bonds that link the components together."
   ]
  },
  {
   "cell_type": "code",
   "execution_count": 3,
   "metadata": {},
   "outputs": [
    {
     "data": {
      "text/plain": [
       "[Bond(tail=Port(C: A, 0), head=Port(1: AB, 0)),\n",
       " Bond(tail=Port(C: B, 0), head=Port(1: AB, 1)),\n",
       " Bond(tail=Port(1: AB, 2), head=Port(R: R1, 0)),\n",
       " Bond(tail=Port(R: R1, 1), head=Port(C: C, 0))]"
      ]
     },
     "execution_count": 3,
     "metadata": {},
     "output_type": "execute_result"
    }
   ],
   "source": [
    "connect(C_A,flow) # Bond 1\n",
    "connect(C_B,flow) # Bond 2\n",
    "connect(flow,Re) # Bond 3\n",
    "connect(Re,C_C) # Bond 4\n",
    "\n",
    "# List the bonds to check they have been added\n",
    "model_ABC.bonds"
   ]
  },
  {
   "cell_type": "markdown",
   "metadata": {},
   "source": [
    "We now draw the bond graph to make sure that the structure is the same as the diagram above."
   ]
  },
  {
   "cell_type": "code",
   "execution_count": 4,
   "metadata": {},
   "outputs": [
    {
     "data": {
      "image/png": "[encoded data removed]",
      "text/plain": [
       "<Figure size 960x720 with 1 Axes>"
      ]
     },
     "metadata": {
      "needs_background": "light"
     },
     "output_type": "display_data"
    }
   ],
   "source": [
    "draw(model_ABC)"
   ]
  },
  {
   "cell_type": "markdown",
   "metadata": {},
   "source": [
    "The differential equations for the model can be derived using the `constitutive_relations` property."
   ]
  },
  {
   "cell_type": "code",
   "execution_count": 5,
   "metadata": {
    "scrolled": true
   },
   "outputs": [
    {
     "data": {
      "image/png": "[encoded data removed]",
      "text/latex": [
       "$\\displaystyle \\left[ dx_{0} + u_{9} e^{\\frac{u_{1} u_{2} \\log{\\left(u_{0} x_{0} \\right)} + u_{4} u_{5} \\log{\\left(u_{3} x_{1} \\right)}}{u_{10} u_{11}}} - u_{9} e^{\\frac{u_{7} u_{8} \\log{\\left(u_{6} x_{2} \\right)}}{u_{10} u_{11}}}, \\  dx_{1} + u_{9} e^{\\frac{u_{1} u_{2} \\log{\\left(u_{0} x_{0} \\right)} + u_{4} u_{5} \\log{\\left(u_{3} x_{1} \\right)}}{u_{10} u_{11}}} - u_{9} e^{\\frac{u_{7} u_{8} \\log{\\left(u_{6} x_{2} \\right)}}{u_{10} u_{11}}}, \\  dx_{2} - u_{9} e^{\\frac{u_{1} u_{2} \\log{\\left(u_{0} x_{0} \\right)} + u_{4} u_{5} \\log{\\left(u_{3} x_{1} \\right)}}{u_{10} u_{11}}} + u_{9} e^{\\frac{u_{7} u_{8} \\log{\\left(u_{6} x_{2} \\right)}}{u_{10} u_{11}}}\\right]$"
      ],
      "text/plain": [
       "⎡          u₁⋅u₂⋅log(u₀⋅x₀) + u₄⋅u₅⋅log(u₃⋅x₁)       u₇⋅u₈⋅log(u₆⋅x₂)         \n",
       "⎢          ───────────────────────────────────       ────────────────         \n",
       "⎢                        u₁₀⋅u₁₁                         u₁₀⋅u₁₁              \n",
       "⎣dx₀ + u₉⋅ℯ                                    - u₉⋅ℯ                , dx₁ + u\n",
       "\n",
       "   u₁⋅u₂⋅log(u₀⋅x₀) + u₄⋅u₅⋅log(u₃⋅x₁)       u₇⋅u₈⋅log(u₆⋅x₂)            u₁⋅u₂\n",
       "   ───────────────────────────────────       ────────────────            ─────\n",
       "                 u₁₀⋅u₁₁                         u₁₀⋅u₁₁                      \n",
       "₉⋅ℯ                                    - u₉⋅ℯ                , dx₂ - u₉⋅ℯ     \n",
       "\n",
       "⋅log(u₀⋅x₀) + u₄⋅u₅⋅log(u₃⋅x₁)       u₇⋅u₈⋅log(u₆⋅x₂)⎤\n",
       "──────────────────────────────       ────────────────⎥\n",
       "         u₁₀⋅u₁₁                         u₁₀⋅u₁₁     ⎥\n",
       "                               + u₉⋅ℯ                ⎦"
      ]
     },
     "execution_count": 5,
     "metadata": {},
     "output_type": "execute_result"
    }
   ],
   "source": [
    "model_ABC.constitutive_relations"
   ]
  },
  {
   "cell_type": "markdown",
   "metadata": {},
   "source": [
    "As seen above, the differential equations contain a number of unset constants - the control variables $u_n$. We will now set the parameters for each component, and derive the differential equation again."
   ]
  },
  {
   "cell_type": "code",
   "execution_count": 6,
   "metadata": {},
   "outputs": [
    {
     "data": {
      "image/png": "[encoded data removed]",
      "text/latex": [
       "$\\displaystyle \\left[ dx_{0} + x_{0} x_{1} - x_{2}, \\  dx_{1} + x_{0} x_{1} - x_{2}, \\  dx_{2} - x_{0} x_{1} + x_{2}\\right]$"
      ],
      "text/plain": [
       "[dx₀ + x₀⋅x₁ - x₂, dx₁ + x₀⋅x₁ - x₂, dx₂ - x₀⋅x₁ + x₂]"
      ]
     },
     "execution_count": 6,
     "metadata": {},
     "output_type": "execute_result"
    }
   ],
   "source": [
    "# C:A\n",
    "C_A.set_param('k',1)\n",
    "C_A.set_param('R',1)\n",
    "C_A.set_param('T',1)\n",
    "\n",
    "# C:B\n",
    "C_B.set_param('k',1)\n",
    "C_B.set_param('R',1)\n",
    "C_B.set_param('T',1)\n",
    "\n",
    "# C:C\n",
    "C_C.set_param('k',1)\n",
    "C_C.set_param('R',1)\n",
    "C_C.set_param('T',1)\n",
    "\n",
    "# Re:R1\n",
    "Re.set_param('r',1)\n",
    "Re.set_param('R',1)\n",
    "Re.set_param('T',1)\n",
    "\n",
    "# Derive the differential equations\n",
    "model_ABC.constitutive_relations"
   ]
  },
  {
   "cell_type": "markdown",
   "metadata": {},
   "source": [
    "It is easily seen that the differential equations follow the law of mass action. The definition of each state can be found by using the `state_vars` method. The states $x_0$, $x_1$ and $x_2$ correspond to A, B and C respectively."
   ]
  },
  {
   "cell_type": "code",
   "execution_count": 7,
   "metadata": {},
   "outputs": [
    {
     "name": "stdout",
     "output_type": "stream",
     "text": [
      "x_0 -> C: A\n",
      "x_1 -> C: B\n",
      "x_2 -> C: C\n"
     ]
    }
   ],
   "source": [
    "for k,v in model_ABC.state_vars.items(): print(f'{k} -> {v[0]}')"
   ]
  },
  {
   "cell_type": "markdown",
   "metadata": {},
   "source": [
    "Therefore the differential equations can be interpreted as\n",
    "$$ \n",
    "\\begin{align*}\n",
    "\\frac{dx_A}{dt} &= -x_A x_B + x_C \\\\\n",
    "\\frac{dx_B}{dt} &= -x_A x_B + x_C \\\\\n",
    "\\frac{dx_C}{dt} &= x_A x_B - x_C \n",
    "\\end{align*}\n",
    "$$"
   ]
  },
  {
   "cell_type": "markdown",
   "metadata": {},
   "source": [
    "We will now attempt to simulate the model using the `simulate` method in BondGraphTools. We set $x_0 = 1$, $x_1 = 2$ and $x_2 = 3$ as the initial conditions, and simulate the system from $t=0$ to $t=10$. The results are plotted below."
   ]
  },
  {
   "cell_type": "code",
   "execution_count": 8,
   "metadata": {},
   "outputs": [
    {
     "data": {
      "image/png": "[encoded data removed]",
      "text/plain": [
       "<Figure size 432x288 with 1 Axes>"
      ]
     },
     "metadata": {
      "needs_background": "light"
     },
     "output_type": "display_data"
    }
   ],
   "source": [
    "t,x = simulate(model_ABC, timespan=(0.,10.), x0=[1,2,3])\n",
    "plt.plot(t,x)\n",
    "plt.xlabel('Time')\n",
    "plt.ylabel('Amount')\n",
    "plt.legend(['A','B','C'])\n",
    "plt.show()"
   ]
  },
  {
   "cell_type": "markdown",
   "metadata": {},
   "source": [
    "We can run a different simulation for the same system using the initial conditions $x_0 = 3$, $x_1 = 1$ and $x_2 = 2$."
   ]
  },
  {
   "cell_type": "code",
   "execution_count": 9,
   "metadata": {},
   "outputs": [
    {
     "data": {
      "image/png": "[encoded data removed]",
      "text/plain": [
       "<Figure size 432x288 with 1 Axes>"
      ]
     },
     "metadata": {
      "needs_background": "light"
     },
     "output_type": "display_data"
    }
   ],
   "source": [
    "t,x = simulate(model_ABC, timespan=(0.,10.), x0=[3,1,2])\n",
    "plt.plot(t,x)\n",
    "plt.xlabel('Time')\n",
    "plt.ylabel('Amount')\n",
    "plt.legend(['A','B','C'])\n",
    "plt.show()"
   ]
  },
  {
   "cell_type": "markdown",
   "metadata": {},
   "source": [
    "## The reversible Michaelis-Menten model\n",
    "Here we will create a bond graph of the two-state enzyme model used for the Michaelis-Menten equations. The chemical reactions in this system are \n",
    "$$\n",
    "E + S \\rightleftharpoons C \\\\ \n",
    "C \\rightleftharpoons E + P\n",
    "$$\n",
    "As in the typical formulation, we assume that S and P are chemostats, i.e. their amounts are fixed at constant values. The corresponding bond graph for this system is shown below. The bonds have been labelled in blue.\n",
    "\n",
    "![](enzyme_cycle.svg)\n",
    "\n",
    "We begin by creating each of the components, and placing them in a list.\n",
    "\n",
    "While we chose to initialise components without their parameters in the previous example, we use this example to demonstrate how to initialise components with their parameters. All the bond graph parameters have been set to 1, and we assume that S is fixed at an amount of 2, and P is fixed at an amount of 1."
   ]
  },
  {
   "cell_type": "code",
   "execution_count": 10,
   "metadata": {},
   "outputs": [
    {
     "data": {
      "text/plain": [
       "OrderedSet([C: E, C: C, SS: S, SS: P, R: R1, R: R2, 0: E, 0: C, 1: R1, 1: R2])"
      ]
     },
     "execution_count": 10,
     "metadata": {},
     "output_type": "execute_result"
    }
   ],
   "source": [
    "model_MM = new(name='Michaelis-Menten')\n",
    "\n",
    "R = 8.3144598\n",
    "T = 310\n",
    "K_S = 1\n",
    "K_P = 1\n",
    "x_S = 2\n",
    "x_P = 1\n",
    "\n",
    "# Chemical species\n",
    "C_E = new(component='Ce',name='E',library='BioChem',value={'k':1,'R':R,'T':T})\n",
    "C_C = new(component='Ce',name='C',library='BioChem',value={'k':1,'R':R,'T':T})\n",
    "# Chemostats\n",
    "Se_S = new(component='Se',name='S',value={'e':R*T*log(K_S*x_S)})\n",
    "Se_P = new(component='Se',name='P',value={'e':R*T*log(K_P*x_P)})\n",
    "# Reactions\n",
    "R1 = new(component='Re',name='R1',library='BioChem',value={'r':1,'R':R,'T':T})\n",
    "R2 = new(component='Re',name='R2',library='BioChem',value={'r':1,'R':R,'T':T})\n",
    "# 0 junctions\n",
    "ej_E = new(component='0',name='E')\n",
    "ej_C = new(component='0',name='C')\n",
    "# 1 junctions\n",
    "fj_1 = new(component='1',name='R1')\n",
    "fj_2 = new(component='1',name='R2')\n",
    "\n",
    "# Place components in a list and add to model\n",
    "components = [C_E,C_C,Se_S,Se_P,R1,R2,ej_E,ej_C,fj_1,fj_2]\n",
    "add(model_MM, *components)\n",
    "\n",
    "# Check that the components are in the model\n",
    "model_MM.components"
   ]
  },
  {
   "cell_type": "markdown",
   "metadata": {},
   "source": [
    "We next connect the components together, as in the diagram above."
   ]
  },
  {
   "cell_type": "code",
   "execution_count": 11,
   "metadata": {},
   "outputs": [
    {
     "data": {
      "text/plain": [
       "[Bond(tail=Port(SS: S, 0), head=Port(1: R1, 0)),\n",
       " Bond(tail=Port(1: R1, 1), head=Port(R: R1, 0)),\n",
       " Bond(tail=Port(R: R1, 1), head=Port(0: C, 0)),\n",
       " Bond(tail=Port(0: C, 1), head=Port(C: C, 0)),\n",
       " Bond(tail=Port(0: C, 2), head=Port(R: R2, 0)),\n",
       " Bond(tail=Port(R: R2, 1), head=Port(1: R2, 0)),\n",
       " Bond(tail=Port(1: R2, 1), head=Port(SS: P, 0)),\n",
       " Bond(tail=Port(1: R2, 2), head=Port(0: E, 0)),\n",
       " Bond(tail=Port(0: E, 1), head=Port(C: E, 0)),\n",
       " Bond(tail=Port(0: E, 2), head=Port(1: R1, 2))]"
      ]
     },
     "execution_count": 11,
     "metadata": {},
     "output_type": "execute_result"
    }
   ],
   "source": [
    "connect(Se_S,fj_1) # Bond 1\n",
    "connect(fj_1,(R1,0)) # Bond 2\n",
    "connect((R1,1),ej_C) # Bond 3\n",
    "connect(ej_C,C_C) # Bond 4\n",
    "connect(ej_C,(R2,0)) # Bond 5\n",
    "connect((R2,1),fj_2) # Bond 6\n",
    "connect(fj_2,Se_P) # Bond 7\n",
    "connect(fj_2,ej_E) # Bond 8\n",
    "connect(ej_E,C_E) # Bond 9\n",
    "connect(ej_E,fj_1) # Bond 10\n",
    "\n",
    "# Check that the bonds have been added\n",
    "model_MM.bonds"
   ]
  },
  {
   "cell_type": "markdown",
   "metadata": {},
   "source": [
    "The bond graph drawn by the software verifies these connections."
   ]
  },
  {
   "cell_type": "code",
   "execution_count": 12,
   "metadata": {},
   "outputs": [
    {
     "data": {
      "image/png": "[encoded data removed]",
      "text/plain": [
       "<Figure size 960x720 with 1 Axes>"
      ]
     },
     "metadata": {
      "needs_background": "light"
     },
     "output_type": "display_data"
    }
   ],
   "source": [
    "draw(model_MM)"
   ]
  },
  {
   "cell_type": "markdown",
   "metadata": {},
   "source": [
    "For this model, the constitutive equations reduce to a linear system"
   ]
  },
  {
   "cell_type": "code",
   "execution_count": 13,
   "metadata": {},
   "outputs": [
    {
     "data": {
      "image/png": "[encoded data removed]",
      "text/latex": [
       "$\\displaystyle \\left[ dx_{0} + 3 x_{0} - 2 x_{1}, \\  dx_{1} - 3 x_{0} + 2 x_{1}\\right]$"
      ],
      "text/plain": [
       "[dx₀ + 3⋅x₀ - 2⋅x₁, dx₁ - 3⋅x₀ + 2⋅x₁]"
      ]
     },
     "execution_count": 13,
     "metadata": {},
     "output_type": "execute_result"
    }
   ],
   "source": [
    "model_MM.constitutive_relations"
   ]
  },
  {
   "cell_type": "markdown",
   "metadata": {},
   "source": [
    "with the state variables defined as"
   ]
  },
  {
   "cell_type": "code",
   "execution_count": 14,
   "metadata": {},
   "outputs": [
    {
     "name": "stdout",
     "output_type": "stream",
     "text": [
      "x_0 -> C: E\n",
      "x_1 -> C: C\n"
     ]
    }
   ],
   "source": [
    "for k,v in model_MM.state_vars.items(): print(f'{k} -> {v[0]}')"
   ]
  },
  {
   "cell_type": "markdown",
   "metadata": {},
   "source": [
    "We may now simulate this model using the initial conditions $x_E = 1$ and $x_C = 2$."
   ]
  },
  {
   "cell_type": "code",
   "execution_count": 15,
   "metadata": {},
   "outputs": [
    {
     "data": {
      "image/png": "[encoded data removed]",
      "text/plain": [
       "<Figure size 432x288 with 1 Axes>"
      ]
     },
     "metadata": {
      "needs_background": "light"
     },
     "output_type": "display_data"
    }
   ],
   "source": [
    "t,x = simulate(model_MM, timespan=(0.,3.), x0=[1,2])\n",
    "plt.plot(t,x)\n",
    "plt.xlabel('Time')\n",
    "plt.ylabel('Amount')\n",
    "plt.legend(['E','C'])\n",
    "plt.show()"
   ]
  },
  {
   "cell_type": "markdown",
   "metadata": {},
   "source": [
    "We may also run a simulation where the amount of substrate is gradually increased, i.e. $x_S = 1+t$. We turn the **Se:S** component back into a controlled variable, and set the effort to be $e = RT\\ln(K_S (1+t))$. As the amount of substrate increases more of the enzyme is driven to the complex state."
   ]
  },
  {
   "cell_type": "code",
   "execution_count": 16,
   "metadata": {},
   "outputs": [
    {
     "data": {
      "image/png": "[encoded data removed]",
      "text/plain": [
       "<Figure size 432x288 with 1 Axes>"
      ]
     },
     "metadata": {
      "needs_background": "light"
     },
     "output_type": "display_data"
    }
   ],
   "source": [
    "Se_S.set_param('e',None)\n",
    "t,x = simulate(model_MM, timespan=(0.,10.), x0=[1,2], control_vars={'u_0':f'{R}*{T}*log({K_S}*(1+t))'})\n",
    "plt.plot(t,x)\n",
    "plt.xlabel('Time')\n",
    "plt.ylabel('Amount')\n",
    "plt.legend(['E','C'])\n",
    "plt.show()"
   ]
  }
 ],
 "metadata": {
  "kernelspec": {
   "display_name": "Python 3",
   "language": "python",
   "name": "python3"
  },
  "language_info": {
   "codemirror_mode": {
    "name": "ipython",
    "version": 3
   },
   "file_extension": ".py",
   "mimetype": "text/x-python",
   "name": "python",
   "nbconvert_exporter": "python",
   "pygments_lexer": "ipython3",
   "version": "3.8.8"
  }
 },
 "nbformat": 4,
 "nbformat_minor": 2
}
